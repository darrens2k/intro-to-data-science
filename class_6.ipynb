{
 "cells": [
  {
   "cell_type": "code",
   "execution_count": 1,
   "metadata": {},
   "outputs": [],
   "source": [
    "import numpy as np\n",
    "import pandas as pd\n",
    "from matplotlib import pyplot as plt\n",
    "import seaborn as sns\n",
    "import scipy"
   ]
  },
  {
   "cell_type": "code",
   "execution_count": 2,
   "metadata": {},
   "outputs": [],
   "source": [
    "data = pd.read_csv(\"C:\\\\Users\\\\darre\\\\Downloads\\\\data.csv\")"
   ]
  },
  {
   "cell_type": "code",
   "execution_count": 3,
   "metadata": {},
   "outputs": [
    {
     "name": "stdout",
     "output_type": "stream",
     "text": [
      "<class 'pandas.core.frame.DataFrame'>\n",
      "RangeIndex: 1000 entries, 0 to 999\n",
      "Data columns (total 10 columns):\n",
      " #   Column                     Non-Null Count  Dtype  \n",
      "---  ------                     --------------  -----  \n",
      " 0   user_id                    1000 non-null   int64  \n",
      " 1   age                        1000 non-null   int64  \n",
      " 2   signup_date                1000 non-null   object \n",
      " 3   last_purchase_date         1000 non-null   object \n",
      " 4   total_purchases            1000 non-null   int64  \n",
      " 5   total_spent                1000 non-null   float64\n",
      " 6   favorite_product_category  1000 non-null   object \n",
      " 7   location                   1000 non-null   object \n",
      " 8   gender                     1000 non-null   object \n",
      " 9   email_domain               1000 non-null   object \n",
      "dtypes: float64(1), int64(3), object(6)\n",
      "memory usage: 78.2+ KB\n"
     ]
    }
   ],
   "source": [
    "data.info()"
   ]
  },
  {
   "cell_type": "code",
   "execution_count": 4,
   "metadata": {},
   "outputs": [
    {
     "data": {
      "text/html": [
       "<div>\n",
       "<style scoped>\n",
       "    .dataframe tbody tr th:only-of-type {\n",
       "        vertical-align: middle;\n",
       "    }\n",
       "\n",
       "    .dataframe tbody tr th {\n",
       "        vertical-align: top;\n",
       "    }\n",
       "\n",
       "    .dataframe thead th {\n",
       "        text-align: right;\n",
       "    }\n",
       "</style>\n",
       "<table border=\"1\" class=\"dataframe\">\n",
       "  <thead>\n",
       "    <tr style=\"text-align: right;\">\n",
       "      <th></th>\n",
       "      <th>user_id</th>\n",
       "      <th>age</th>\n",
       "      <th>total_purchases</th>\n",
       "      <th>total_spent</th>\n",
       "    </tr>\n",
       "  </thead>\n",
       "  <tbody>\n",
       "    <tr>\n",
       "      <th>count</th>\n",
       "      <td>1000.000000</td>\n",
       "      <td>1000.000000</td>\n",
       "      <td>1000.000000</td>\n",
       "      <td>1000.000000</td>\n",
       "    </tr>\n",
       "    <tr>\n",
       "      <th>mean</th>\n",
       "      <td>500.500000</td>\n",
       "      <td>48.769000</td>\n",
       "      <td>24.553000</td>\n",
       "      <td>1006.185110</td>\n",
       "    </tr>\n",
       "    <tr>\n",
       "      <th>std</th>\n",
       "      <td>288.819436</td>\n",
       "      <td>17.924758</td>\n",
       "      <td>14.221091</td>\n",
       "      <td>565.591399</td>\n",
       "    </tr>\n",
       "    <tr>\n",
       "      <th>min</th>\n",
       "      <td>1.000000</td>\n",
       "      <td>18.000000</td>\n",
       "      <td>1.000000</td>\n",
       "      <td>21.674472</td>\n",
       "    </tr>\n",
       "    <tr>\n",
       "      <th>25%</th>\n",
       "      <td>250.750000</td>\n",
       "      <td>33.000000</td>\n",
       "      <td>12.000000</td>\n",
       "      <td>505.387035</td>\n",
       "    </tr>\n",
       "    <tr>\n",
       "      <th>50%</th>\n",
       "      <td>500.500000</td>\n",
       "      <td>49.000000</td>\n",
       "      <td>24.000000</td>\n",
       "      <td>1015.924107</td>\n",
       "    </tr>\n",
       "    <tr>\n",
       "      <th>75%</th>\n",
       "      <td>750.250000</td>\n",
       "      <td>65.000000</td>\n",
       "      <td>37.250000</td>\n",
       "      <td>1470.408267</td>\n",
       "    </tr>\n",
       "    <tr>\n",
       "      <th>max</th>\n",
       "      <td>1000.000000</td>\n",
       "      <td>79.000000</td>\n",
       "      <td>49.000000</td>\n",
       "      <td>1999.004071</td>\n",
       "    </tr>\n",
       "  </tbody>\n",
       "</table>\n",
       "</div>"
      ],
      "text/plain": [
       "           user_id          age  total_purchases  total_spent\n",
       "count  1000.000000  1000.000000      1000.000000  1000.000000\n",
       "mean    500.500000    48.769000        24.553000  1006.185110\n",
       "std     288.819436    17.924758        14.221091   565.591399\n",
       "min       1.000000    18.000000         1.000000    21.674472\n",
       "25%     250.750000    33.000000        12.000000   505.387035\n",
       "50%     500.500000    49.000000        24.000000  1015.924107\n",
       "75%     750.250000    65.000000        37.250000  1470.408267\n",
       "max    1000.000000    79.000000        49.000000  1999.004071"
      ]
     },
     "execution_count": 4,
     "metadata": {},
     "output_type": "execute_result"
    }
   ],
   "source": [
    "data.describe()"
   ]
  },
  {
   "cell_type": "code",
   "execution_count": 5,
   "metadata": {},
   "outputs": [
    {
     "data": {
      "text/html": [
       "<div>\n",
       "<style scoped>\n",
       "    .dataframe tbody tr th:only-of-type {\n",
       "        vertical-align: middle;\n",
       "    }\n",
       "\n",
       "    .dataframe tbody tr th {\n",
       "        vertical-align: top;\n",
       "    }\n",
       "\n",
       "    .dataframe thead th {\n",
       "        text-align: right;\n",
       "    }\n",
       "</style>\n",
       "<table border=\"1\" class=\"dataframe\">\n",
       "  <thead>\n",
       "    <tr style=\"text-align: right;\">\n",
       "      <th></th>\n",
       "      <th>user_id</th>\n",
       "      <th>age</th>\n",
       "      <th>signup_date</th>\n",
       "      <th>last_purchase_date</th>\n",
       "      <th>total_purchases</th>\n",
       "      <th>total_spent</th>\n",
       "      <th>favorite_product_category</th>\n",
       "      <th>location</th>\n",
       "      <th>gender</th>\n",
       "      <th>email_domain</th>\n",
       "    </tr>\n",
       "  </thead>\n",
       "  <tbody>\n",
       "    <tr>\n",
       "      <th>0</th>\n",
       "      <td>1</td>\n",
       "      <td>33</td>\n",
       "      <td>1978-11-01 17:03</td>\n",
       "      <td>2020-05-11 4:13</td>\n",
       "      <td>10</td>\n",
       "      <td>840.954993</td>\n",
       "      <td>books</td>\n",
       "      <td>Lake Gerald</td>\n",
       "      <td>female</td>\n",
       "      <td>gmail.com</td>\n",
       "    </tr>\n",
       "    <tr>\n",
       "      <th>1</th>\n",
       "      <td>2</td>\n",
       "      <td>32</td>\n",
       "      <td>2016-04-08 14:19</td>\n",
       "      <td>1959-01-07 5:45</td>\n",
       "      <td>2</td>\n",
       "      <td>1147.412095</td>\n",
       "      <td>books</td>\n",
       "      <td>North Justinburgh</td>\n",
       "      <td>male</td>\n",
       "      <td>yahoo.com</td>\n",
       "    </tr>\n",
       "    <tr>\n",
       "      <th>2</th>\n",
       "      <td>3</td>\n",
       "      <td>19</td>\n",
       "      <td>2021-03-08 7:01</td>\n",
       "      <td>2006-10-29 16:56</td>\n",
       "      <td>6</td>\n",
       "      <td>1301.284835</td>\n",
       "      <td>books</td>\n",
       "      <td>West Alec</td>\n",
       "      <td>female</td>\n",
       "      <td>yahoo.com</td>\n",
       "    </tr>\n",
       "    <tr>\n",
       "      <th>3</th>\n",
       "      <td>4</td>\n",
       "      <td>48</td>\n",
       "      <td>2006-01-11 11:04</td>\n",
       "      <td>1966-07-01 20:22</td>\n",
       "      <td>8</td>\n",
       "      <td>1404.261405</td>\n",
       "      <td>books</td>\n",
       "      <td>Annaton</td>\n",
       "      <td>male</td>\n",
       "      <td>hotmail.com</td>\n",
       "    </tr>\n",
       "    <tr>\n",
       "      <th>4</th>\n",
       "      <td>5</td>\n",
       "      <td>75</td>\n",
       "      <td>1985-06-16 1:41</td>\n",
       "      <td>2013-05-14 12:44</td>\n",
       "      <td>3</td>\n",
       "      <td>1968.752964</td>\n",
       "      <td>books</td>\n",
       "      <td>East Markburgh</td>\n",
       "      <td>female</td>\n",
       "      <td>yahoo.com</td>\n",
       "    </tr>\n",
       "  </tbody>\n",
       "</table>\n",
       "</div>"
      ],
      "text/plain": [
       "   user_id  age       signup_date last_purchase_date  total_purchases   \n",
       "0        1   33  1978-11-01 17:03    2020-05-11 4:13               10  \\\n",
       "1        2   32  2016-04-08 14:19    1959-01-07 5:45                2   \n",
       "2        3   19   2021-03-08 7:01   2006-10-29 16:56                6   \n",
       "3        4   48  2006-01-11 11:04   1966-07-01 20:22                8   \n",
       "4        5   75   1985-06-16 1:41   2013-05-14 12:44                3   \n",
       "\n",
       "   total_spent favorite_product_category           location  gender   \n",
       "0   840.954993                     books        Lake Gerald  female  \\\n",
       "1  1147.412095                     books  North Justinburgh    male   \n",
       "2  1301.284835                     books          West Alec  female   \n",
       "3  1404.261405                     books            Annaton    male   \n",
       "4  1968.752964                     books     East Markburgh  female   \n",
       "\n",
       "  email_domain  \n",
       "0    gmail.com  \n",
       "1    yahoo.com  \n",
       "2    yahoo.com  \n",
       "3  hotmail.com  \n",
       "4    yahoo.com  "
      ]
     },
     "execution_count": 5,
     "metadata": {},
     "output_type": "execute_result"
    }
   ],
   "source": [
    "data.head()"
   ]
  },
  {
   "cell_type": "code",
   "execution_count": 9,
   "metadata": {},
   "outputs": [
    {
     "data": {
      "text/plain": [
       "array(['gmail.com', 'yahoo.com', 'hotmail.com'], dtype=object)"
      ]
     },
     "execution_count": 9,
     "metadata": {},
     "output_type": "execute_result"
    }
   ],
   "source": [
    "data['email_domain'].unique()"
   ]
  },
  {
   "cell_type": "code",
   "execution_count": 10,
   "metadata": {},
   "outputs": [
    {
     "data": {
      "text/plain": [
       "array(['female', 'male'], dtype=object)"
      ]
     },
     "execution_count": 10,
     "metadata": {},
     "output_type": "execute_result"
    }
   ],
   "source": [
    "data['gender'].unique()"
   ]
  },
  {
   "cell_type": "code",
   "execution_count": 11,
   "metadata": {},
   "outputs": [
    {
     "data": {
      "text/plain": [
       "array(['books', 'home', 'electronics', 'clothing', 'beauty'], dtype=object)"
      ]
     },
     "execution_count": 11,
     "metadata": {},
     "output_type": "execute_result"
    }
   ],
   "source": [
    "data['favorite_product_category'].unique()"
   ]
  },
  {
   "cell_type": "code",
   "execution_count": 14,
   "metadata": {},
   "outputs": [],
   "source": [
    "data['signup_date'] = pd.to_datetime(data['signup_date'])\n",
    "data['last_purchase_date'] = pd.to_datetime(data['signup_date'])"
   ]
  },
  {
   "cell_type": "code",
   "execution_count": null,
   "metadata": {},
   "outputs": [],
   "source": []
  }
 ],
 "metadata": {
  "kernelspec": {
   "display_name": "Python 3",
   "language": "python",
   "name": "python3"
  },
  "language_info": {
   "codemirror_mode": {
    "name": "ipython",
    "version": 3
   },
   "file_extension": ".py",
   "mimetype": "text/x-python",
   "name": "python",
   "nbconvert_exporter": "python",
   "pygments_lexer": "ipython3",
   "version": "3.10.7"
  },
  "orig_nbformat": 4
 },
 "nbformat": 4,
 "nbformat_minor": 2
}
