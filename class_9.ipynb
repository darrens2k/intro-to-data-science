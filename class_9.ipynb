{
 "cells": [
  {
   "cell_type": "code",
   "execution_count": 1,
   "metadata": {},
   "outputs": [],
   "source": [
    "# july 11\n",
    "\n",
    "# Original Author: Delina Ivanova\n",
    "# Editted by Darren Singh - July 11 2023"
   ]
  },
  {
   "cell_type": "markdown",
   "metadata": {},
   "source": [
    "# Bulding a Logistic Regression model in Python\n",
    "\n",
    "Logistic Regression is a type of probabilistic classification model. It works best for a binary output (e.g., predicting whether someone has a disease or not; predicting if a credit card transaction is likely to be fraudulent or not; predicting whether someone is likely to survive the Titanic or not). \n",
    "\n",
    "## The difference between probability and likelihood\n",
    "\n",
    "### Probability\n",
    "\n",
    "Probability refers to finding the chance that something happens given a sample distribution of data. For example, if we collected income data from 100 people which was normally distributed and had the following characteristics: $$ \\mu = 50,000 $$ and $$ \\sigma = 5 ,000$$ we could calculate the *probability* that someone has a salary greater than $48,000. First we find the z-score: $$ z = {x - \\mu \\over \\sigma} $$ thus $$ z = {48,000 - 50,000 \\over 5,000} $$ which results in $$ z = -0.4 $$\n",
    "\n",
    "Then, we can look up the corresponding z-value in the z-table which equals 0.34458. Now we can calculate the probability that someone makes more than $48,000 by calculating $$P(>48,000) = 1-0.34458 = 0.65542$$ Therefore, there is a 65% chance a randomly selected person makes more than $48,000\n",
    "\n",
    "### Likelihood\n",
    "\n",
    "*Likelihood* flips the question around and essentially tries to figure out the best characteristics (probability distribution) of data given a particular value. For example, if we collected a bunch of income data (let's say 100 observations), and we observed that most of the observations are between $45,000 and $50,000, which distribution (normal, exponential, gamma) with what characteristics (mean, standard deviation) would maximize the likelihood that we observe what we observed? We could check a whole bunch of different distributions (e.g., normal distribution with mean of $30,000 and stdev of $2,000, OR normal distribution with mean of $48,000 and stdev of $3,000, and so on) and how they fit the data, and we would pick the distribution and characteristics which maximize the likelihood that we see what we saw in our data (i.e., if our collected data had an average income of $48,000, we would pick the distribution which has this average as well). Basically, we are trying to find the best distribution as opposed to already having the distribution available. Once we find the best distribution, we can calculate probabilities!\n",
    "\n",
    "### Maximum Likelihood Estimation\n",
    "\n",
    "In the real world, a common modelling problem is the question of estimating a joint probability distribution for a dataset. Density estimation would involve selecting a probability distribution function and the parameters that best explain the joint probability of observed data, so the obvious questions are: How should you choose the distribution function? How should you choose the parameters for the probability density function?\n",
    "\n",
    "Two common techniques are Maximum a Posteriori (MAP) and Maximum Likelihood Estimation (MLE). MLE assumes that all solutions are equally likely, while MAP takes into account prior information about the form of the solution.\n",
    "\n",
    "MLE treats the problem as an optimization problem (i.e., searching for the optimal solution). We wish to maximize the probability of observing the data from a joint probability distribution given a distribution and parameters that we already know. Mathematically this is stated as:\n",
    "\n",
    "$$ P(X | \\theta)$$ \n",
    "\n",
    "where theta is an unknown parameter. The resulting conditional probability is referred to as the *likelihood* of observing the data given the model parameters and uses the notation: \n",
    "$$L(X | \\theta)$$\n",
    "\n",
    "Calculating conditional probabilities, gven a sample comprises of n-examples, this can be framed as the joint probabilty of the observed data samples (x1, x2...xn) given the probability distribution parameters. The joint probability distribution can be restated as the multiplication of the conditional probability of observing each example, given the distribution parameters.\n",
    "\n",
    "Multiplying all the small probabilities, however, is time consuming, so we can restate this further as the sum of the log conditional probabilities of observing each example given the model parameters. This is what leads to the use of the term *log-likelihood function*.\n",
    "\n",
    "When we are *fitting* a machine learning model, we are essentially trying to estimate probability density - i.e., finding the best parameters or settings that explain the data. The Maximum Likelihood Estimation (MLE) framework is used for density estimation in both supervised and unsupervised models (and in neural nets) - it provides the basis for both Linear and Logistic Regression models. In summary, you can think of it as an optimization problem of searching a whole bunch of parameters in order to find the BEST parameters.\n",
    "\n",
    "\n",
    "### The good stuff - Logistic Regression\n",
    "\n",
    "You should use the slides to supplement your learning but this will be more detailed and probably better. Yes, you can use this for the exam. Yes, the exam will include content from this notebook (I guess you would only know that if you read this far already!!). Don't worry; I'll remind you to read it in class. Anyway, I digress...\n",
    "\n",
    "As discussed, logistic regression is used *primarily* for predicting binary classes (True/False, 0/1, Yes/No type of problems). Just like linear regression, logistic regression will have a function in the form of:\n",
    "$$ y = mx + b$$\n",
    "Where the coefficients will tell us information about how the input variables (x-values) impact our output variable (probability of Y / 1 / True). The main difference between logistic and linear regression, is that logistic regression will produce an output that is always between 0 and 1 (0 = 0% likelihood of an outcome happening; 1=100% likelihood of an outcome happening). This translates to the 0/1 binary outcome using a probability threshold - the default threshold is 50%, meaning that if the probability of an outcome is 50% or higher, it's classified as 1 (i.e., if the probability of a credit card transaction being fraudulent is calculated as 55%, it would be classified as a 1 or Yes or True).\n",
    "\n",
    "To calculate probabilities, we use the Sigmoid function (also called logistic function):\n",
    "\n",
    "$$ S(x) = {1 \\over 1+e^{-x}} $$\n",
    "\n",
    "The output is interpreted as a probability from a Binomial probability distribution function for the class labeled 0 or 1. In general when we produce the function which corresponds with the model, we are estimating the coefficients / parameters from the sample of observations that we have - in theory, these samples are representative of the population. We must always remember there will be 'noise' in the data, which is what we typically consider the errors. For logistic regression, we look at MLE to estimate parameters (if you remember, for Linear regression we discussed Least Squares Optimization - this is similar).\n",
    "\n",
    "#### Odds and log-odds\n",
    "\n",
    "Odds, if you read the slides, are often stated as wins or losses. For example, what are the odds of me drawing a Jack of Hearts from a deck of cards? We can convert the probabilility produced by the logistic regression model to \"odds of success\", defined as the probability of success divided by the probability of not success:\n",
    "$$ odds = {p \\over (1-p)}$$\n",
    "\n",
    "The logarithm is calculated as the log of the odds (hence, log-istic regression!):\n",
    "$$log odds = {log{p\\over (1-p)}}$$\n",
    "\n",
    "Quick review here on logs -- generally with log calculations we are trying to calculate an exponent which yields a value. For example \n",
    "\n",
    "$$log_28 = 3$$ \n",
    "because \n",
    "$$2^3 = 8$$\n",
    "\n",
    "When we are not provided a log base, we assume we're using e as the base, and e = 2.71\n",
    "\n",
    "Now if we put it all together (and if you remember my drawings on the board in class); we use the logit function (above) to project odds on a scale of -infinity to + infinity - this allows to project data onto a straight line (this is the blue line in the picture on Slide 10 of the notes). This gives us:\n",
    "\n",
    "$$y = mx + b$$\n",
    "\n",
    "We then optimize the coefficients of this straight line, using gradient descent for example (more on this in a later class... maybe next semester). Then, we use the sigmoid function to convert the -infinity to +infinity values BACK to a probability of 0-1, so we can actually classify our outputs. In sum, the objective of our model is to predict/output a probability of belonging to class 1 or not.\n",
    "\n",
    "\n",
    "In the real world, you won't have to do this by hand - but it's important to understand the logic/math behind all of the models we are learning.\n",
    "\n",
    "### The Coding Part\n",
    "\n",
    "Let's get to the good stuff. We'll start with probability and odds."
   ]
  },
  {
   "cell_type": "code",
   "execution_count": 2,
   "metadata": {},
   "outputs": [
    {
     "name": "stdout",
     "output_type": "stream",
     "text": [
      "0.7\n",
      "2.333333333333333\n",
      "0.7\n"
     ]
    }
   ],
   "source": [
    "import math\n",
    "\n",
    "# define probability of success; \n",
    "# let's say, the probability I walk into class with a \n",
    "# coffee from Sbux on Wednesday\n",
    "p = 0.7\n",
    "print(p)\n",
    "#let's convert this to odds\n",
    "odds = p / (1-p)\n",
    "print(odds)\n",
    "#let's convert back to probability\n",
    "prob = odds / (odds + 1)\n",
    "print(prob)\n"
   ]
  },
  {
   "cell_type": "code",
   "execution_count": 3,
   "metadata": {},
   "outputs": [
    {
     "name": "stdout",
     "output_type": "stream",
     "text": [
      "0.7\n",
      "2.333333333333333\n",
      "0.8472978603872034\n",
      "0.7\n"
     ]
    }
   ],
   "source": [
    "#okay, next example - log odds; start with probability again\n",
    "p = 0.7\n",
    "print(p)\n",
    "#calculate odds\n",
    "odds = p / (1-p)\n",
    "print(odds)\n",
    "#convert to log-odds\n",
    "logodds = math.log(odds)\n",
    "print(logodds)\n",
    "#convert back to probability using sigmoid function\n",
    "prob = 1/(1+math.exp(-logodds))\n",
    "print(prob)"
   ]
  },
  {
   "cell_type": "markdown",
   "metadata": {},
   "source": [
    "Now let's start with estimating model parameters. Again, MLE is a framework we can use to estimate parameters. We are trying to maximize the conditional probability of observing the data (X) given a specific probability distribution and its parameters.\n",
    "\n",
    "For supervised learning, we can summarize the conditional probability as predicting the probability if the output, given the input:\n",
    "\n",
    "$$P(Y | X)$$\n",
    "\n",
    "To calculate maximum likelihood, we need start somewhere (i.e., make an assumption about the distribution). For logistic regression, we assume a Binomial distribution. Each example in a binomial distribution is a Bernoulli trial. Since the Bernoulli distribution has a single parameter (p), we can describe this as:\n",
    "\n",
    "$$P(y=1) = p$$\n",
    "$$P(y=0) = 1-p$$\n",
    "\n",
    "The mean of the Bernoulli distribution, therefore is:\n",
    "\n",
    "$$\\mu = P(y=1)*1 + P(y=0)*0$$\n",
    "\n",
    "THEREFORE, to calculate likelihood of a specific input, where the probability is given by our prediction function, we have:\n",
    "\n",
    "$$L = \\hat{y}*y + (1-\\hat{y})*(1-y)$$\n",
    "\n",
    "Let us test this function here:"
   ]
  },
  {
   "cell_type": "code",
   "execution_count": 4,
   "metadata": {},
   "outputs": [
    {
     "name": "stdout",
     "output_type": "stream",
     "text": [
      "0.9\n"
     ]
    }
   ],
   "source": [
    "def likelihood(y,yhat):\n",
    "    return yhat * y +(1-yhat)*(1-y)\n",
    "\n",
    "y, yhat = 1,0.9\n",
    "print(likelihood(y,yhat))"
   ]
  },
  {
   "cell_type": "markdown",
   "metadata": {},
   "source": [
    "Now we can transform the likelihood into LOG-likelihood by adding the log function:"
   ]
  },
  {
   "cell_type": "code",
   "execution_count": 5,
   "metadata": {},
   "outputs": [
    {
     "name": "stdout",
     "output_type": "stream",
     "text": [
      "-0.10536051565782628\n"
     ]
    }
   ],
   "source": [
    "loglikelihood = math.log(yhat)*y+math.log(1-yhat)*(1-y)\n",
    "print(loglikelihood)"
   ]
  },
  {
   "cell_type": "markdown",
   "metadata": {},
   "source": [
    "To find the maximum likelihood, we can sum up all of the logs of all the likelihoods. We would essentially start with a baseline model, and continue to iterate until we have a model that maximizes likelihood. Generally we can use gradient descent (we will cover this in a later session) to find the optimal coefficients. Let's build a logistic regression function from scratch for Titanic, and then we'll do it with the sklearn library."
   ]
  },
  {
   "cell_type": "code",
   "execution_count": 6,
   "metadata": {},
   "outputs": [],
   "source": [
    "import numpy as np\n",
    "\n",
    "# don't use this in exam, use scikit learn function\n",
    "\n",
    "#define a class which holds data and functions\n",
    "class LogisticRegression:\n",
    "    def __init__(self, x,y): #this is a function to initiate the class\n",
    "        self.intercept = np.ones((x.shape[0],1)) #create an array of ones same length as x variable, 1 column\n",
    "        self.x = np.concatenate((self.intercept,x),axis=1) #puts array of x values + array of ones side by side; note - x must be in array format\n",
    "        self.weight = np.zeros(self.x.shape[1]) #makes array of zeros with the same number of columns as x\n",
    "        self.y=y #output variable, also must be in array format\n",
    "\n",
    "    #sigmoid method\n",
    "    def sigmoid(self,x,weight):\n",
    "        z = np.dot(x,weight) #take the dot product of x-array, and weights \n",
    "        return 1 / (1+np.exp(-z)) #sigmoid function\n",
    "\n",
    "    #loss calculation\n",
    "    def loss(self, h, y): #y is the actual class; h is the probability of the class; this is the log loss function which we want to minimize\n",
    "        return (-y * np.log(h) - (1-y) *np.log(1-h)).mean() \n",
    "        \n",
    "    #gradient calculation\n",
    "    def gradient_descent(self, X, h, y): #gradient descent we use to minimize log function above, and find the best coefficients / straight line\n",
    "        return np.dot(X.T, (h-y)) / y.shape[0]\n",
    "        \n",
    "    #define fitting function\n",
    "    def fit(self, lr, iterations): #lr is the learning rate the model uses to determine the step size at each iteration while moving toward a minimum loss funciton - we'll cover this in gradient descent \n",
    "        for i in range(iterations): #basically we're doing a bunch of iterations; sigmoud, calculate loss, gradient descent\n",
    "            sigma = self.sigmoid(self.x,self.weight)\n",
    "            loss = self.loss(sigma,self.y)\n",
    "            dW = self.gradient_descent(self.x, sigma, self.y)\n",
    "\n",
    "            #update weights\n",
    "            self.weight -=lr*dW #then find best weights\n",
    "        return print(\"finito!\")\n",
    "        \n",
    "    #predict function\n",
    "    def predict(self,x_new,threshold): #fitting function, plus ability to set threshold\n",
    "        x_new = np.concatenate((self.intercept, x_new), axis=1) #repeat process above\n",
    "        result = self.sigmoid(x_new, self.weight)\n",
    "        result = result >= threshold #returns true/false if above threshold\n",
    "        y_pred = np.zeros(result.shape[0]) #create array of zeroes\n",
    "        for i in range(len(y_pred)):\n",
    "            if result[i] == True:\n",
    "                y_pred[i] =1 #replace 0 in array if probability is above threshold\n",
    "            else:\n",
    "                continue\n",
    "        return y_pred #return array\n"
   ]
  },
  {
   "cell_type": "markdown",
   "metadata": {},
   "source": [
    "Let's try this out on Titanic - and then we'll use the sklearn logistic regression function and also compare results with other classifiers."
   ]
  },
  {
   "cell_type": "code",
   "execution_count": 7,
   "metadata": {},
   "outputs": [],
   "source": [
    "from seaborn import load_dataset #titanic lives in seaborn\n",
    "import pandas as pd\n",
    "import seaborn as sns\n",
    "\n",
    "data = load_dataset('titanic')"
   ]
  },
  {
   "cell_type": "code",
   "execution_count": 8,
   "metadata": {},
   "outputs": [
    {
     "data": {
      "text/html": [
       "<div>\n",
       "<style scoped>\n",
       "    .dataframe tbody tr th:only-of-type {\n",
       "        vertical-align: middle;\n",
       "    }\n",
       "\n",
       "    .dataframe tbody tr th {\n",
       "        vertical-align: top;\n",
       "    }\n",
       "\n",
       "    .dataframe thead th {\n",
       "        text-align: right;\n",
       "    }\n",
       "</style>\n",
       "<table border=\"1\" class=\"dataframe\">\n",
       "  <thead>\n",
       "    <tr style=\"text-align: right;\">\n",
       "      <th></th>\n",
       "      <th>survived</th>\n",
       "      <th>pclass</th>\n",
       "      <th>sex</th>\n",
       "      <th>age</th>\n",
       "      <th>sibsp</th>\n",
       "      <th>parch</th>\n",
       "      <th>fare</th>\n",
       "      <th>embarked</th>\n",
       "      <th>class</th>\n",
       "      <th>who</th>\n",
       "      <th>adult_male</th>\n",
       "      <th>deck</th>\n",
       "      <th>embark_town</th>\n",
       "      <th>alive</th>\n",
       "      <th>alone</th>\n",
       "    </tr>\n",
       "  </thead>\n",
       "  <tbody>\n",
       "    <tr>\n",
       "      <th>0</th>\n",
       "      <td>0</td>\n",
       "      <td>3</td>\n",
       "      <td>male</td>\n",
       "      <td>22.0</td>\n",
       "      <td>1</td>\n",
       "      <td>0</td>\n",
       "      <td>7.2500</td>\n",
       "      <td>S</td>\n",
       "      <td>Third</td>\n",
       "      <td>man</td>\n",
       "      <td>True</td>\n",
       "      <td>NaN</td>\n",
       "      <td>Southampton</td>\n",
       "      <td>no</td>\n",
       "      <td>False</td>\n",
       "    </tr>\n",
       "    <tr>\n",
       "      <th>1</th>\n",
       "      <td>1</td>\n",
       "      <td>1</td>\n",
       "      <td>female</td>\n",
       "      <td>38.0</td>\n",
       "      <td>1</td>\n",
       "      <td>0</td>\n",
       "      <td>71.2833</td>\n",
       "      <td>C</td>\n",
       "      <td>First</td>\n",
       "      <td>woman</td>\n",
       "      <td>False</td>\n",
       "      <td>C</td>\n",
       "      <td>Cherbourg</td>\n",
       "      <td>yes</td>\n",
       "      <td>False</td>\n",
       "    </tr>\n",
       "    <tr>\n",
       "      <th>2</th>\n",
       "      <td>1</td>\n",
       "      <td>3</td>\n",
       "      <td>female</td>\n",
       "      <td>26.0</td>\n",
       "      <td>0</td>\n",
       "      <td>0</td>\n",
       "      <td>7.9250</td>\n",
       "      <td>S</td>\n",
       "      <td>Third</td>\n",
       "      <td>woman</td>\n",
       "      <td>False</td>\n",
       "      <td>NaN</td>\n",
       "      <td>Southampton</td>\n",
       "      <td>yes</td>\n",
       "      <td>True</td>\n",
       "    </tr>\n",
       "    <tr>\n",
       "      <th>3</th>\n",
       "      <td>1</td>\n",
       "      <td>1</td>\n",
       "      <td>female</td>\n",
       "      <td>35.0</td>\n",
       "      <td>1</td>\n",
       "      <td>0</td>\n",
       "      <td>53.1000</td>\n",
       "      <td>S</td>\n",
       "      <td>First</td>\n",
       "      <td>woman</td>\n",
       "      <td>False</td>\n",
       "      <td>C</td>\n",
       "      <td>Southampton</td>\n",
       "      <td>yes</td>\n",
       "      <td>False</td>\n",
       "    </tr>\n",
       "    <tr>\n",
       "      <th>4</th>\n",
       "      <td>0</td>\n",
       "      <td>3</td>\n",
       "      <td>male</td>\n",
       "      <td>35.0</td>\n",
       "      <td>0</td>\n",
       "      <td>0</td>\n",
       "      <td>8.0500</td>\n",
       "      <td>S</td>\n",
       "      <td>Third</td>\n",
       "      <td>man</td>\n",
       "      <td>True</td>\n",
       "      <td>NaN</td>\n",
       "      <td>Southampton</td>\n",
       "      <td>no</td>\n",
       "      <td>True</td>\n",
       "    </tr>\n",
       "  </tbody>\n",
       "</table>\n",
       "</div>"
      ],
      "text/plain": [
       "   survived  pclass     sex   age  sibsp  parch     fare embarked  class   \n",
       "0         0       3    male  22.0      1      0   7.2500        S  Third  \\\n",
       "1         1       1  female  38.0      1      0  71.2833        C  First   \n",
       "2         1       3  female  26.0      0      0   7.9250        S  Third   \n",
       "3         1       1  female  35.0      1      0  53.1000        S  First   \n",
       "4         0       3    male  35.0      0      0   8.0500        S  Third   \n",
       "\n",
       "     who  adult_male deck  embark_town alive  alone  \n",
       "0    man        True  NaN  Southampton    no  False  \n",
       "1  woman       False    C    Cherbourg   yes  False  \n",
       "2  woman       False  NaN  Southampton   yes   True  \n",
       "3  woman       False    C  Southampton   yes  False  \n",
       "4    man        True  NaN  Southampton    no   True  "
      ]
     },
     "execution_count": 8,
     "metadata": {},
     "output_type": "execute_result"
    }
   ],
   "source": [
    "data.head() #success! by the way, since i'm taking this from seaborn it's slightly different than the one we used in class\n"
   ]
  },
  {
   "cell_type": "code",
   "execution_count": 9,
   "metadata": {},
   "outputs": [
    {
     "name": "stdout",
     "output_type": "stream",
     "text": [
      "<class 'pandas.core.frame.DataFrame'>\n",
      "RangeIndex: 891 entries, 0 to 890\n",
      "Data columns (total 15 columns):\n",
      " #   Column       Non-Null Count  Dtype   \n",
      "---  ------       --------------  -----   \n",
      " 0   survived     891 non-null    int64   \n",
      " 1   pclass       891 non-null    int64   \n",
      " 2   sex          891 non-null    object  \n",
      " 3   age          714 non-null    float64 \n",
      " 4   sibsp        891 non-null    int64   \n",
      " 5   parch        891 non-null    int64   \n",
      " 6   fare         891 non-null    float64 \n",
      " 7   embarked     889 non-null    object  \n",
      " 8   class        891 non-null    category\n",
      " 9   who          891 non-null    object  \n",
      " 10  adult_male   891 non-null    bool    \n",
      " 11  deck         203 non-null    category\n",
      " 12  embark_town  889 non-null    object  \n",
      " 13  alive        891 non-null    object  \n",
      " 14  alone        891 non-null    bool    \n",
      "dtypes: bool(2), category(2), float64(2), int64(4), object(5)\n",
      "memory usage: 80.7+ KB\n"
     ]
    }
   ],
   "source": [
    "data.info() #missing data in Age, Embarked, Class, Deck, Embark Town"
   ]
  },
  {
   "cell_type": "markdown",
   "metadata": {},
   "source": [
    "#### Cleaning and transforming data\n",
    "\n",
    "Let's get rid of thte deck column - not useful, too many missing values. We can also remove the adult_male column, since it's redundant to sex. We can remove 'alive' since we don't care how long survivors lived, and it's redundant to survive. We can remove 'alone'. Remove Embark_town since it's redundant with Embarked. We can fill in missing values for Age and for Embarked. Also let's get rid of \"who\", names won't be relevant here."
   ]
  },
  {
   "cell_type": "code",
   "execution_count": 10,
   "metadata": {},
   "outputs": [],
   "source": [
    "data.drop(['alive','alone','embark_town','who','adult_male','deck','class'], axis=1,inplace=True)"
   ]
  },
  {
   "cell_type": "code",
   "execution_count": 11,
   "metadata": {},
   "outputs": [
    {
     "data": {
      "text/html": [
       "<div>\n",
       "<style scoped>\n",
       "    .dataframe tbody tr th:only-of-type {\n",
       "        vertical-align: middle;\n",
       "    }\n",
       "\n",
       "    .dataframe tbody tr th {\n",
       "        vertical-align: top;\n",
       "    }\n",
       "\n",
       "    .dataframe thead th {\n",
       "        text-align: right;\n",
       "    }\n",
       "</style>\n",
       "<table border=\"1\" class=\"dataframe\">\n",
       "  <thead>\n",
       "    <tr style=\"text-align: right;\">\n",
       "      <th></th>\n",
       "      <th>survived</th>\n",
       "      <th>pclass</th>\n",
       "      <th>sex</th>\n",
       "      <th>age</th>\n",
       "      <th>sibsp</th>\n",
       "      <th>parch</th>\n",
       "      <th>fare</th>\n",
       "      <th>embarked</th>\n",
       "    </tr>\n",
       "  </thead>\n",
       "  <tbody>\n",
       "    <tr>\n",
       "      <th>0</th>\n",
       "      <td>0</td>\n",
       "      <td>3</td>\n",
       "      <td>male</td>\n",
       "      <td>22.0</td>\n",
       "      <td>1</td>\n",
       "      <td>0</td>\n",
       "      <td>7.2500</td>\n",
       "      <td>S</td>\n",
       "    </tr>\n",
       "    <tr>\n",
       "      <th>1</th>\n",
       "      <td>1</td>\n",
       "      <td>1</td>\n",
       "      <td>female</td>\n",
       "      <td>38.0</td>\n",
       "      <td>1</td>\n",
       "      <td>0</td>\n",
       "      <td>71.2833</td>\n",
       "      <td>C</td>\n",
       "    </tr>\n",
       "    <tr>\n",
       "      <th>2</th>\n",
       "      <td>1</td>\n",
       "      <td>3</td>\n",
       "      <td>female</td>\n",
       "      <td>26.0</td>\n",
       "      <td>0</td>\n",
       "      <td>0</td>\n",
       "      <td>7.9250</td>\n",
       "      <td>S</td>\n",
       "    </tr>\n",
       "    <tr>\n",
       "      <th>3</th>\n",
       "      <td>1</td>\n",
       "      <td>1</td>\n",
       "      <td>female</td>\n",
       "      <td>35.0</td>\n",
       "      <td>1</td>\n",
       "      <td>0</td>\n",
       "      <td>53.1000</td>\n",
       "      <td>S</td>\n",
       "    </tr>\n",
       "    <tr>\n",
       "      <th>4</th>\n",
       "      <td>0</td>\n",
       "      <td>3</td>\n",
       "      <td>male</td>\n",
       "      <td>35.0</td>\n",
       "      <td>0</td>\n",
       "      <td>0</td>\n",
       "      <td>8.0500</td>\n",
       "      <td>S</td>\n",
       "    </tr>\n",
       "    <tr>\n",
       "      <th>...</th>\n",
       "      <td>...</td>\n",
       "      <td>...</td>\n",
       "      <td>...</td>\n",
       "      <td>...</td>\n",
       "      <td>...</td>\n",
       "      <td>...</td>\n",
       "      <td>...</td>\n",
       "      <td>...</td>\n",
       "    </tr>\n",
       "    <tr>\n",
       "      <th>886</th>\n",
       "      <td>0</td>\n",
       "      <td>2</td>\n",
       "      <td>male</td>\n",
       "      <td>27.0</td>\n",
       "      <td>0</td>\n",
       "      <td>0</td>\n",
       "      <td>13.0000</td>\n",
       "      <td>S</td>\n",
       "    </tr>\n",
       "    <tr>\n",
       "      <th>887</th>\n",
       "      <td>1</td>\n",
       "      <td>1</td>\n",
       "      <td>female</td>\n",
       "      <td>19.0</td>\n",
       "      <td>0</td>\n",
       "      <td>0</td>\n",
       "      <td>30.0000</td>\n",
       "      <td>S</td>\n",
       "    </tr>\n",
       "    <tr>\n",
       "      <th>888</th>\n",
       "      <td>0</td>\n",
       "      <td>3</td>\n",
       "      <td>female</td>\n",
       "      <td>NaN</td>\n",
       "      <td>1</td>\n",
       "      <td>2</td>\n",
       "      <td>23.4500</td>\n",
       "      <td>S</td>\n",
       "    </tr>\n",
       "    <tr>\n",
       "      <th>889</th>\n",
       "      <td>1</td>\n",
       "      <td>1</td>\n",
       "      <td>male</td>\n",
       "      <td>26.0</td>\n",
       "      <td>0</td>\n",
       "      <td>0</td>\n",
       "      <td>30.0000</td>\n",
       "      <td>C</td>\n",
       "    </tr>\n",
       "    <tr>\n",
       "      <th>890</th>\n",
       "      <td>0</td>\n",
       "      <td>3</td>\n",
       "      <td>male</td>\n",
       "      <td>32.0</td>\n",
       "      <td>0</td>\n",
       "      <td>0</td>\n",
       "      <td>7.7500</td>\n",
       "      <td>Q</td>\n",
       "    </tr>\n",
       "  </tbody>\n",
       "</table>\n",
       "<p>891 rows × 8 columns</p>\n",
       "</div>"
      ],
      "text/plain": [
       "     survived  pclass     sex   age  sibsp  parch     fare embarked\n",
       "0           0       3    male  22.0      1      0   7.2500        S\n",
       "1           1       1  female  38.0      1      0  71.2833        C\n",
       "2           1       3  female  26.0      0      0   7.9250        S\n",
       "3           1       1  female  35.0      1      0  53.1000        S\n",
       "4           0       3    male  35.0      0      0   8.0500        S\n",
       "..        ...     ...     ...   ...    ...    ...      ...      ...\n",
       "886         0       2    male  27.0      0      0  13.0000        S\n",
       "887         1       1  female  19.0      0      0  30.0000        S\n",
       "888         0       3  female   NaN      1      2  23.4500        S\n",
       "889         1       1    male  26.0      0      0  30.0000        C\n",
       "890         0       3    male  32.0      0      0   7.7500        Q\n",
       "\n",
       "[891 rows x 8 columns]"
      ]
     },
     "execution_count": 11,
     "metadata": {},
     "output_type": "execute_result"
    }
   ],
   "source": [
    "data"
   ]
  },
  {
   "cell_type": "markdown",
   "metadata": {},
   "source": [
    "We can fill in missing data for Age, using median by sex - this is probably the safest approach. For Embarked, we can just find the most popular value."
   ]
  },
  {
   "cell_type": "code",
   "execution_count": 12,
   "metadata": {},
   "outputs": [
    {
     "data": {
      "text/html": [
       "<div>\n",
       "<style scoped>\n",
       "    .dataframe tbody tr th:only-of-type {\n",
       "        vertical-align: middle;\n",
       "    }\n",
       "\n",
       "    .dataframe tbody tr th {\n",
       "        vertical-align: top;\n",
       "    }\n",
       "\n",
       "    .dataframe thead th {\n",
       "        text-align: right;\n",
       "    }\n",
       "</style>\n",
       "<table border=\"1\" class=\"dataframe\">\n",
       "  <thead>\n",
       "    <tr style=\"text-align: right;\">\n",
       "      <th></th>\n",
       "      <th>survived</th>\n",
       "      <th>pclass</th>\n",
       "      <th>sex</th>\n",
       "      <th>age</th>\n",
       "      <th>sibsp</th>\n",
       "      <th>parch</th>\n",
       "      <th>fare</th>\n",
       "    </tr>\n",
       "    <tr>\n",
       "      <th>embarked</th>\n",
       "      <th></th>\n",
       "      <th></th>\n",
       "      <th></th>\n",
       "      <th></th>\n",
       "      <th></th>\n",
       "      <th></th>\n",
       "      <th></th>\n",
       "    </tr>\n",
       "  </thead>\n",
       "  <tbody>\n",
       "    <tr>\n",
       "      <th>C</th>\n",
       "      <td>168</td>\n",
       "      <td>168</td>\n",
       "      <td>168</td>\n",
       "      <td>130</td>\n",
       "      <td>168</td>\n",
       "      <td>168</td>\n",
       "      <td>168</td>\n",
       "    </tr>\n",
       "    <tr>\n",
       "      <th>Q</th>\n",
       "      <td>77</td>\n",
       "      <td>77</td>\n",
       "      <td>77</td>\n",
       "      <td>28</td>\n",
       "      <td>77</td>\n",
       "      <td>77</td>\n",
       "      <td>77</td>\n",
       "    </tr>\n",
       "    <tr>\n",
       "      <th>S</th>\n",
       "      <td>644</td>\n",
       "      <td>644</td>\n",
       "      <td>644</td>\n",
       "      <td>554</td>\n",
       "      <td>644</td>\n",
       "      <td>644</td>\n",
       "      <td>644</td>\n",
       "    </tr>\n",
       "  </tbody>\n",
       "</table>\n",
       "</div>"
      ],
      "text/plain": [
       "          survived  pclass  sex  age  sibsp  parch  fare\n",
       "embarked                                                \n",
       "C              168     168  168  130    168    168   168\n",
       "Q               77      77   77   28     77     77    77\n",
       "S              644     644  644  554    644    644   644"
      ]
     },
     "execution_count": 12,
     "metadata": {},
     "output_type": "execute_result"
    }
   ],
   "source": [
    "data.groupby('embarked').count()"
   ]
  },
  {
   "cell_type": "code",
   "execution_count": 13,
   "metadata": {},
   "outputs": [],
   "source": [
    "data['age'] = data['age'].fillna(data.groupby('sex')['age'].transform('median'))"
   ]
  },
  {
   "cell_type": "code",
   "execution_count": 14,
   "metadata": {},
   "outputs": [],
   "source": [
    "data['embarked'] = data['embarked'].fillna('S')"
   ]
  },
  {
   "cell_type": "code",
   "execution_count": 15,
   "metadata": {},
   "outputs": [
    {
     "name": "stdout",
     "output_type": "stream",
     "text": [
      "<class 'pandas.core.frame.DataFrame'>\n",
      "RangeIndex: 891 entries, 0 to 890\n",
      "Data columns (total 8 columns):\n",
      " #   Column    Non-Null Count  Dtype  \n",
      "---  ------    --------------  -----  \n",
      " 0   survived  891 non-null    int64  \n",
      " 1   pclass    891 non-null    int64  \n",
      " 2   sex       891 non-null    object \n",
      " 3   age       891 non-null    float64\n",
      " 4   sibsp     891 non-null    int64  \n",
      " 5   parch     891 non-null    int64  \n",
      " 6   fare      891 non-null    float64\n",
      " 7   embarked  891 non-null    object \n",
      "dtypes: float64(2), int64(4), object(2)\n",
      "memory usage: 55.8+ KB\n"
     ]
    }
   ],
   "source": [
    "data.info()"
   ]
  },
  {
   "cell_type": "markdown",
   "metadata": {},
   "source": [
    "Now let's make dummy variables for Embarked and Sex."
   ]
  },
  {
   "cell_type": "code",
   "execution_count": 16,
   "metadata": {},
   "outputs": [],
   "source": [
    "sex_dummies = pd.get_dummies(data['sex'])\n",
    "embarked_dummies = pd.get_dummies(data['embarked'])"
   ]
  },
  {
   "cell_type": "code",
   "execution_count": 17,
   "metadata": {},
   "outputs": [],
   "source": [
    "data = pd.concat([data,sex_dummies,embarked_dummies],axis=1)"
   ]
  },
  {
   "cell_type": "code",
   "execution_count": 18,
   "metadata": {},
   "outputs": [],
   "source": [
    "#drop old columns\n",
    "data.drop(['sex','embarked'],axis=1, inplace=True)"
   ]
  },
  {
   "cell_type": "code",
   "execution_count": 19,
   "metadata": {},
   "outputs": [
    {
     "data": {
      "text/plain": [
       "Index(['survived', 'pclass', 'age', 'sibsp', 'parch', 'fare', 'female', 'male',\n",
       "       'C', 'Q', 'S'],\n",
       "      dtype='object')"
      ]
     },
     "execution_count": 19,
     "metadata": {},
     "output_type": "execute_result"
    }
   ],
   "source": [
    "data.columns"
   ]
  },
  {
   "cell_type": "markdown",
   "metadata": {},
   "source": [
    "Now we are ready. Let's try the model. Remember, we should convert our variables to numpy arrays."
   ]
  },
  {
   "cell_type": "code",
   "execution_count": 20,
   "metadata": {},
   "outputs": [],
   "source": [
    "x = np.array(data[['pclass', 'age', 'sibsp', 'parch', 'fare', 'female', 'male',\n",
    "       'C', 'Q', 'S']])\n",
    "y = np.array(data.survived)\n",
    " \n"
   ]
  },
  {
   "cell_type": "code",
   "execution_count": 21,
   "metadata": {},
   "outputs": [
    {
     "ename": "TypeError",
     "evalue": "loop of ufunc does not support argument 0 of type float which has no callable exp method",
     "output_type": "error",
     "traceback": [
      "\u001b[1;31m---------------------------------------------------------------------------\u001b[0m",
      "\u001b[1;31mAttributeError\u001b[0m                            Traceback (most recent call last)",
      "\u001b[1;31mAttributeError\u001b[0m: 'float' object has no attribute 'exp'",
      "\nThe above exception was the direct cause of the following exception:\n",
      "\u001b[1;31mTypeError\u001b[0m                                 Traceback (most recent call last)",
      "Cell \u001b[1;32mIn[21], line 5\u001b[0m\n\u001b[0;32m      2\u001b[0m regressor \u001b[39m=\u001b[39m LogisticRegression(x,y)\n\u001b[0;32m      4\u001b[0m \u001b[39m#fit the model, 0.1 learning rate, anad 5000 iterations (this is how we'll find max likelihood)\u001b[39;00m\n\u001b[1;32m----> 5\u001b[0m regressor\u001b[39m.\u001b[39;49mfit(\u001b[39m0.1\u001b[39;49m , \u001b[39m5000\u001b[39;49m)\n\u001b[0;32m      8\u001b[0m y_pred \u001b[39m=\u001b[39m regressor\u001b[39m.\u001b[39mpredict(x,\u001b[39m0.5\u001b[39m) \u001b[39m#use 0.5 treshold\u001b[39;00m\n\u001b[0;32m     10\u001b[0m \u001b[39mprint\u001b[39m(\u001b[39m'\u001b[39m\u001b[39maccuracy -> \u001b[39m\u001b[39m{}\u001b[39;00m\u001b[39m'\u001b[39m\u001b[39m.\u001b[39mformat(\u001b[39msum\u001b[39m(y_pred \u001b[39m==\u001b[39m y) \u001b[39m/\u001b[39m y\u001b[39m.\u001b[39mshape[\u001b[39m0\u001b[39m])) \u001b[39m#print accuracy\u001b[39;00m\n",
      "Cell \u001b[1;32mIn[6], line 29\u001b[0m, in \u001b[0;36mLogisticRegression.fit\u001b[1;34m(self, lr, iterations)\u001b[0m\n\u001b[0;32m     27\u001b[0m \u001b[39mdef\u001b[39;00m \u001b[39mfit\u001b[39m(\u001b[39mself\u001b[39m, lr, iterations): \u001b[39m#lr is the learning rate the model uses to determine the step size at each iteration while moving toward a minimum loss funciton - we'll cover this in gradient descent \u001b[39;00m\n\u001b[0;32m     28\u001b[0m     \u001b[39mfor\u001b[39;00m i \u001b[39min\u001b[39;00m \u001b[39mrange\u001b[39m(iterations): \u001b[39m#basically we're doing a bunch of iterations; sigmoud, calculate loss, gradient descent\u001b[39;00m\n\u001b[1;32m---> 29\u001b[0m         sigma \u001b[39m=\u001b[39m \u001b[39mself\u001b[39;49m\u001b[39m.\u001b[39;49msigmoid(\u001b[39mself\u001b[39;49m\u001b[39m.\u001b[39;49mx,\u001b[39mself\u001b[39;49m\u001b[39m.\u001b[39;49mweight)\n\u001b[0;32m     30\u001b[0m         loss \u001b[39m=\u001b[39m \u001b[39mself\u001b[39m\u001b[39m.\u001b[39mloss(sigma,\u001b[39mself\u001b[39m\u001b[39m.\u001b[39my)\n\u001b[0;32m     31\u001b[0m         dW \u001b[39m=\u001b[39m \u001b[39mself\u001b[39m\u001b[39m.\u001b[39mgradient_descent(\u001b[39mself\u001b[39m\u001b[39m.\u001b[39mx, sigma, \u001b[39mself\u001b[39m\u001b[39m.\u001b[39my)\n",
      "Cell \u001b[1;32mIn[6], line 16\u001b[0m, in \u001b[0;36mLogisticRegression.sigmoid\u001b[1;34m(self, x, weight)\u001b[0m\n\u001b[0;32m     14\u001b[0m \u001b[39mdef\u001b[39;00m \u001b[39msigmoid\u001b[39m(\u001b[39mself\u001b[39m,x,weight):\n\u001b[0;32m     15\u001b[0m     z \u001b[39m=\u001b[39m np\u001b[39m.\u001b[39mdot(x,weight) \u001b[39m#take the dot product of x-array, and weights \u001b[39;00m\n\u001b[1;32m---> 16\u001b[0m     \u001b[39mreturn\u001b[39;00m \u001b[39m1\u001b[39m \u001b[39m/\u001b[39m (\u001b[39m1\u001b[39m\u001b[39m+\u001b[39mnp\u001b[39m.\u001b[39;49mexp(\u001b[39m-\u001b[39;49mz))\n",
      "\u001b[1;31mTypeError\u001b[0m: loop of ufunc does not support argument 0 of type float which has no callable exp method"
     ]
    }
   ],
   "source": [
    "#create the object\n",
    "regressor = LogisticRegression(x,y)\n",
    " \n",
    "#fit the model, 0.1 learning rate, anad 5000 iterations (this is how we'll find max likelihood)\n",
    "regressor.fit(0.1 , 5000)\n",
    " \n",
    " \n",
    "y_pred = regressor.predict(x,0.5) #use 0.5 treshold\n",
    " \n",
    "print('accuracy -> {}'.format(sum(y_pred == y) / y.shape[0])) #print accuracy"
   ]
  },
  {
   "cell_type": "code",
   "execution_count": 23,
   "metadata": {},
   "outputs": [
    {
     "ename": "TypeError",
     "evalue": "loop of ufunc does not support argument 0 of type float which has no callable exp method",
     "output_type": "error",
     "traceback": [
      "\u001b[1;31m---------------------------------------------------------------------------\u001b[0m",
      "\u001b[1;31mAttributeError\u001b[0m                            Traceback (most recent call last)",
      "\u001b[1;31mAttributeError\u001b[0m: 'float' object has no attribute 'exp'",
      "\nThe above exception was the direct cause of the following exception:\n",
      "\u001b[1;31mTypeError\u001b[0m                                 Traceback (most recent call last)",
      "Cell \u001b[1;32mIn[23], line 9\u001b[0m\n\u001b[0;32m      6\u001b[0m regressor \u001b[39m=\u001b[39m LogisticRegression(x,y)\n\u001b[0;32m      8\u001b[0m \u001b[39m#fit the model, 0.3 learning rate this time, anad 5000 iterations (this is how we'll find max likelihood)\u001b[39;00m\n\u001b[1;32m----> 9\u001b[0m regressor\u001b[39m.\u001b[39;49mfit(\u001b[39m0.3\u001b[39;49m, \u001b[39m5000\u001b[39;49m)\n\u001b[0;32m     12\u001b[0m y_pred \u001b[39m=\u001b[39m regressor\u001b[39m.\u001b[39mpredict(x,\u001b[39m0.5\u001b[39m) \u001b[39m#use 0.5 treshold\u001b[39;00m\n\u001b[0;32m     14\u001b[0m \u001b[39mprint\u001b[39m(\u001b[39m'\u001b[39m\u001b[39maccuracy -> \u001b[39m\u001b[39m{}\u001b[39;00m\u001b[39m'\u001b[39m\u001b[39m.\u001b[39mformat(\u001b[39msum\u001b[39m(y_pred \u001b[39m==\u001b[39m y) \u001b[39m/\u001b[39m y\u001b[39m.\u001b[39mshape[\u001b[39m0\u001b[39m])) \u001b[39m#print accuracy\u001b[39;00m\n",
      "Cell \u001b[1;32mIn[6], line 29\u001b[0m, in \u001b[0;36mLogisticRegression.fit\u001b[1;34m(self, lr, iterations)\u001b[0m\n\u001b[0;32m     27\u001b[0m \u001b[39mdef\u001b[39;00m \u001b[39mfit\u001b[39m(\u001b[39mself\u001b[39m, lr, iterations): \u001b[39m#lr is the learning rate the model uses to determine the step size at each iteration while moving toward a minimum loss funciton - we'll cover this in gradient descent \u001b[39;00m\n\u001b[0;32m     28\u001b[0m     \u001b[39mfor\u001b[39;00m i \u001b[39min\u001b[39;00m \u001b[39mrange\u001b[39m(iterations): \u001b[39m#basically we're doing a bunch of iterations; sigmoud, calculate loss, gradient descent\u001b[39;00m\n\u001b[1;32m---> 29\u001b[0m         sigma \u001b[39m=\u001b[39m \u001b[39mself\u001b[39;49m\u001b[39m.\u001b[39;49msigmoid(\u001b[39mself\u001b[39;49m\u001b[39m.\u001b[39;49mx,\u001b[39mself\u001b[39;49m\u001b[39m.\u001b[39;49mweight)\n\u001b[0;32m     30\u001b[0m         loss \u001b[39m=\u001b[39m \u001b[39mself\u001b[39m\u001b[39m.\u001b[39mloss(sigma,\u001b[39mself\u001b[39m\u001b[39m.\u001b[39my)\n\u001b[0;32m     31\u001b[0m         dW \u001b[39m=\u001b[39m \u001b[39mself\u001b[39m\u001b[39m.\u001b[39mgradient_descent(\u001b[39mself\u001b[39m\u001b[39m.\u001b[39mx, sigma, \u001b[39mself\u001b[39m\u001b[39m.\u001b[39my)\n",
      "Cell \u001b[1;32mIn[6], line 16\u001b[0m, in \u001b[0;36mLogisticRegression.sigmoid\u001b[1;34m(self, x, weight)\u001b[0m\n\u001b[0;32m     14\u001b[0m \u001b[39mdef\u001b[39;00m \u001b[39msigmoid\u001b[39m(\u001b[39mself\u001b[39m,x,weight):\n\u001b[0;32m     15\u001b[0m     z \u001b[39m=\u001b[39m np\u001b[39m.\u001b[39mdot(x,weight) \u001b[39m#take the dot product of x-array, and weights \u001b[39;00m\n\u001b[1;32m---> 16\u001b[0m     \u001b[39mreturn\u001b[39;00m \u001b[39m1\u001b[39m \u001b[39m/\u001b[39m (\u001b[39m1\u001b[39m\u001b[39m+\u001b[39mnp\u001b[39m.\u001b[39;49mexp(\u001b[39m-\u001b[39;49mz))\n",
      "\u001b[1;31mTypeError\u001b[0m: loop of ufunc does not support argument 0 of type float which has no callable exp method"
     ]
    }
   ],
   "source": [
    "#not good! Lets try different features\n",
    "x = np.array(data[['fare', 'female','age']])\n",
    "y = np.array(data.survived)\n",
    "\n",
    "#create the object\n",
    "regressor = LogisticRegression(x,y)\n",
    " \n",
    "#fit the model, 0.3 learning rate this time, anad 5000 iterations (this is how we'll find max likelihood)\n",
    "regressor.fit(0.3, 5000)\n",
    " \n",
    " \n",
    "y_pred = regressor.predict(x,0.5) #use 0.5 treshold\n",
    " \n",
    "print('accuracy -> {}'.format(sum(y_pred == y) / y.shape[0])) #print accuracy"
   ]
  },
  {
   "cell_type": "markdown",
   "metadata": {},
   "source": [
    "The second model worked much better - I changed the learning rate to 0.3, and also reduced the number of input variables to Fare, Female (y/n), and Age. So... hopefully this gives you a good view of how we create a logistic regression. Of course we don't need to do this in the real world, so now let's use sklearn's regression and compare the results to Naive Bayes and KNN."
   ]
  },
  {
   "cell_type": "code",
   "execution_count": 24,
   "metadata": {},
   "outputs": [],
   "source": [
    "import statsmodels.api as sm\n",
    "from sklearn.linear_model import LogisticRegression\n",
    "from sklearn.naive_bayes import GaussianNB\n",
    "from sklearn.neighbors import KNeighborsClassifier\n",
    "from sklearn.model_selection import train_test_split\n",
    "from sklearn.metrics import accuracy_score, f1_score, precision_score, roc_curve, roc_auc_score, precision_recall_curve, confusion_matrix, recall_score\n"
   ]
  },
  {
   "cell_type": "code",
   "execution_count": 25,
   "metadata": {},
   "outputs": [],
   "source": [
    "# there are many more hyperparameters we can adjust in this version, \n",
    "# such as regularization terms (we'll cover this in a later module)\n",
    "# weights, solver type, etc. for now, we'll keep the default settings\n",
    "\n",
    "from sklearn.neighbors import KNeighborsClassifier\n",
    "\n",
    "\n",
    "log = LogisticRegression()\n",
    "nb = GaussianNB()\n",
    "knn = KNeighborsClassifier() #default neighbours is 5"
   ]
  },
  {
   "cell_type": "code",
   "execution_count": 26,
   "metadata": {},
   "outputs": [],
   "source": [
    "#split the data\n",
    "x_train, x_test, y_train, y_test = train_test_split(x,y, test_size=0.2)"
   ]
  },
  {
   "cell_type": "code",
   "execution_count": 27,
   "metadata": {},
   "outputs": [
    {
     "data": {
      "text/html": [
       "<style>#sk-container-id-1 {color: black;background-color: white;}#sk-container-id-1 pre{padding: 0;}#sk-container-id-1 div.sk-toggleable {background-color: white;}#sk-container-id-1 label.sk-toggleable__label {cursor: pointer;display: block;width: 100%;margin-bottom: 0;padding: 0.3em;box-sizing: border-box;text-align: center;}#sk-container-id-1 label.sk-toggleable__label-arrow:before {content: \"▸\";float: left;margin-right: 0.25em;color: #696969;}#sk-container-id-1 label.sk-toggleable__label-arrow:hover:before {color: black;}#sk-container-id-1 div.sk-estimator:hover label.sk-toggleable__label-arrow:before {color: black;}#sk-container-id-1 div.sk-toggleable__content {max-height: 0;max-width: 0;overflow: hidden;text-align: left;background-color: #f0f8ff;}#sk-container-id-1 div.sk-toggleable__content pre {margin: 0.2em;color: black;border-radius: 0.25em;background-color: #f0f8ff;}#sk-container-id-1 input.sk-toggleable__control:checked~div.sk-toggleable__content {max-height: 200px;max-width: 100%;overflow: auto;}#sk-container-id-1 input.sk-toggleable__control:checked~label.sk-toggleable__label-arrow:before {content: \"▾\";}#sk-container-id-1 div.sk-estimator input.sk-toggleable__control:checked~label.sk-toggleable__label {background-color: #d4ebff;}#sk-container-id-1 div.sk-label input.sk-toggleable__control:checked~label.sk-toggleable__label {background-color: #d4ebff;}#sk-container-id-1 input.sk-hidden--visually {border: 0;clip: rect(1px 1px 1px 1px);clip: rect(1px, 1px, 1px, 1px);height: 1px;margin: -1px;overflow: hidden;padding: 0;position: absolute;width: 1px;}#sk-container-id-1 div.sk-estimator {font-family: monospace;background-color: #f0f8ff;border: 1px dotted black;border-radius: 0.25em;box-sizing: border-box;margin-bottom: 0.5em;}#sk-container-id-1 div.sk-estimator:hover {background-color: #d4ebff;}#sk-container-id-1 div.sk-parallel-item::after {content: \"\";width: 100%;border-bottom: 1px solid gray;flex-grow: 1;}#sk-container-id-1 div.sk-label:hover label.sk-toggleable__label {background-color: #d4ebff;}#sk-container-id-1 div.sk-serial::before {content: \"\";position: absolute;border-left: 1px solid gray;box-sizing: border-box;top: 0;bottom: 0;left: 50%;z-index: 0;}#sk-container-id-1 div.sk-serial {display: flex;flex-direction: column;align-items: center;background-color: white;padding-right: 0.2em;padding-left: 0.2em;position: relative;}#sk-container-id-1 div.sk-item {position: relative;z-index: 1;}#sk-container-id-1 div.sk-parallel {display: flex;align-items: stretch;justify-content: center;background-color: white;position: relative;}#sk-container-id-1 div.sk-item::before, #sk-container-id-1 div.sk-parallel-item::before {content: \"\";position: absolute;border-left: 1px solid gray;box-sizing: border-box;top: 0;bottom: 0;left: 50%;z-index: -1;}#sk-container-id-1 div.sk-parallel-item {display: flex;flex-direction: column;z-index: 1;position: relative;background-color: white;}#sk-container-id-1 div.sk-parallel-item:first-child::after {align-self: flex-end;width: 50%;}#sk-container-id-1 div.sk-parallel-item:last-child::after {align-self: flex-start;width: 50%;}#sk-container-id-1 div.sk-parallel-item:only-child::after {width: 0;}#sk-container-id-1 div.sk-dashed-wrapped {border: 1px dashed gray;margin: 0 0.4em 0.5em 0.4em;box-sizing: border-box;padding-bottom: 0.4em;background-color: white;}#sk-container-id-1 div.sk-label label {font-family: monospace;font-weight: bold;display: inline-block;line-height: 1.2em;}#sk-container-id-1 div.sk-label-container {text-align: center;}#sk-container-id-1 div.sk-container {/* jupyter's `normalize.less` sets `[hidden] { display: none; }` but bootstrap.min.css set `[hidden] { display: none !important; }` so we also need the `!important` here to be able to override the default hidden behavior on the sphinx rendered scikit-learn.org. See: https://github.com/scikit-learn/scikit-learn/issues/21755 */display: inline-block !important;position: relative;}#sk-container-id-1 div.sk-text-repr-fallback {display: none;}</style><div id=\"sk-container-id-1\" class=\"sk-top-container\"><div class=\"sk-text-repr-fallback\"><pre>KNeighborsClassifier()</pre><b>In a Jupyter environment, please rerun this cell to show the HTML representation or trust the notebook. <br />On GitHub, the HTML representation is unable to render, please try loading this page with nbviewer.org.</b></div><div class=\"sk-container\" hidden><div class=\"sk-item\"><div class=\"sk-estimator sk-toggleable\"><input class=\"sk-toggleable__control sk-hidden--visually\" id=\"sk-estimator-id-1\" type=\"checkbox\" checked><label for=\"sk-estimator-id-1\" class=\"sk-toggleable__label sk-toggleable__label-arrow\">KNeighborsClassifier</label><div class=\"sk-toggleable__content\"><pre>KNeighborsClassifier()</pre></div></div></div></div></div>"
      ],
      "text/plain": [
       "KNeighborsClassifier()"
      ]
     },
     "execution_count": 27,
     "metadata": {},
     "output_type": "execute_result"
    }
   ],
   "source": [
    "log.fit(x_train,y_train)\n",
    "nb.fit(x_train,y_train)\n",
    "knn.fit(x_train,y_train)"
   ]
  },
  {
   "cell_type": "markdown",
   "metadata": {},
   "source": [
    "We've spoken about classification models in the past and optimizing for the threshold (i.e., the default is 50%, but what if we wanted higher thresholds and they were more accurate?). In the example below, if I use the predict() function, I will basically get the 0/1 outputs. However, I can use a predict_proba() function so I can see the actual probabilities that the model is predicting. This will help me find an optimal threshold."
   ]
  },
  {
   "cell_type": "code",
   "execution_count": 28,
   "metadata": {},
   "outputs": [],
   "source": [
    "yhat_log = log.predict_proba(x_test)\n",
    "yhat_nb = nb.predict_proba(x_test)\n",
    "yhat_knn = knn.predict(x_test)"
   ]
  },
  {
   "cell_type": "markdown",
   "metadata": {},
   "source": [
    "In the next cell, for each observation, we can see the probability that the observation is a 1 and the probability that it's a 0. For example, the first entry has a 73% chance of being a 0 (dead), and a 27% chance of being a 1 (alive)."
   ]
  },
  {
   "cell_type": "code",
   "execution_count": 29,
   "metadata": {},
   "outputs": [
    {
     "data": {
      "text/plain": [
       "array([[0.29035236, 0.70964764],\n",
       "       [0.84474837, 0.15525163],\n",
       "       [0.86199325, 0.13800675],\n",
       "       [0.34595039, 0.65404961],\n",
       "       [0.83916336, 0.16083664],\n",
       "       [0.01051839, 0.98948161],\n",
       "       [0.81989586, 0.18010414],\n",
       "       [0.87153458, 0.12846542],\n",
       "       [0.64279269, 0.35720731],\n",
       "       [0.33212821, 0.66787179],\n",
       "       [0.76322564, 0.23677436],\n",
       "       [0.34920059, 0.65079941],\n",
       "       [0.34737024, 0.65262976],\n",
       "       [0.31020828, 0.68979172],\n",
       "       [0.71671558, 0.28328442],\n",
       "       [0.83976105, 0.16023895],\n",
       "       [0.84987754, 0.15012246],\n",
       "       [0.84451758, 0.15548242],\n",
       "       [0.84405421, 0.15594579],\n",
       "       [0.84987754, 0.15012246],\n",
       "       [0.83130116, 0.16869884],\n",
       "       [0.32846283, 0.67153717],\n",
       "       [0.83851389, 0.16148611],\n",
       "       [0.24583632, 0.75416368],\n",
       "       [0.82410416, 0.17589584],\n",
       "       [0.83215303, 0.16784697],\n",
       "       [0.8629559 , 0.1370441 ],\n",
       "       [0.40093611, 0.59906389],\n",
       "       [0.35019831, 0.64980169],\n",
       "       [0.79365521, 0.20634479],\n",
       "       [0.82128781, 0.17871219],\n",
       "       [0.84885861, 0.15114139],\n",
       "       [0.84861517, 0.15138483],\n",
       "       [0.76841313, 0.23158687],\n",
       "       [0.85004893, 0.14995107],\n",
       "       [0.84885861, 0.15114139],\n",
       "       [0.80524705, 0.19475295],\n",
       "       [0.80576579, 0.19423421],\n",
       "       [0.34780024, 0.65219976],\n",
       "       [0.32172724, 0.67827276],\n",
       "       [0.40357124, 0.59642876],\n",
       "       [0.84510114, 0.15489886],\n",
       "       [0.82351629, 0.17648371],\n",
       "       [0.84885861, 0.15114139],\n",
       "       [0.33313238, 0.66686762],\n",
       "       [0.84885861, 0.15114139],\n",
       "       [0.25248675, 0.74751325],\n",
       "       [0.85218145, 0.14781855],\n",
       "       [0.83409597, 0.16590403],\n",
       "       [0.83804488, 0.16195512],\n",
       "       [0.02134683, 0.97865317],\n",
       "       [0.85412435, 0.14587565],\n",
       "       [0.84638224, 0.15361776],\n",
       "       [0.81583959, 0.18416041],\n",
       "       [0.01724032, 0.98275968],\n",
       "       [0.32221041, 0.67778959],\n",
       "       [0.75728128, 0.24271872],\n",
       "       [0.2821828 , 0.7178172 ],\n",
       "       [0.8331492 , 0.1668508 ],\n",
       "       [0.84344891, 0.15655109],\n",
       "       [0.84400582, 0.15599418],\n",
       "       [0.85204611, 0.14795389],\n",
       "       [0.25260343, 0.74739657],\n",
       "       [0.32568477, 0.67431523],\n",
       "       [0.34362054, 0.65637946],\n",
       "       [0.82094251, 0.17905749],\n",
       "       [0.34840266, 0.65159734],\n",
       "       [0.83868199, 0.16131801],\n",
       "       [0.83399099, 0.16600901],\n",
       "       [0.79062915, 0.20937085],\n",
       "       [0.30239191, 0.69760809],\n",
       "       [0.33849093, 0.66150907],\n",
       "       [0.85713938, 0.14286062],\n",
       "       [0.84717419, 0.15282581],\n",
       "       [0.74945728, 0.25054272],\n",
       "       [0.23817412, 0.76182588],\n",
       "       [0.76853389, 0.23146611],\n",
       "       [0.28780215, 0.71219785],\n",
       "       [0.85120751, 0.14879249],\n",
       "       [0.02066709, 0.97933291],\n",
       "       [0.80981864, 0.19018136],\n",
       "       [0.81562157, 0.18437843],\n",
       "       [0.8099938 , 0.1900062 ],\n",
       "       [0.74870831, 0.25129169],\n",
       "       [0.84542109, 0.15457891],\n",
       "       [0.85397784, 0.14602216],\n",
       "       [0.7552637 , 0.2447363 ],\n",
       "       [0.20448667, 0.79551333],\n",
       "       [0.07951444, 0.92048556],\n",
       "       [0.31368851, 0.68631149],\n",
       "       [0.31016522, 0.68983478],\n",
       "       [0.18761813, 0.81238187],\n",
       "       [0.0559389 , 0.9440611 ],\n",
       "       [0.85104445, 0.14895555],\n",
       "       [0.81410327, 0.18589673],\n",
       "       [0.85058588, 0.14941412],\n",
       "       [0.33891564, 0.66108436],\n",
       "       [0.84451758, 0.15548242],\n",
       "       [0.84543283, 0.15456717],\n",
       "       [0.84083834, 0.15916166],\n",
       "       [0.83328357, 0.16671643],\n",
       "       [0.85021592, 0.14978408],\n",
       "       [0.79786189, 0.20213811],\n",
       "       [0.81756052, 0.18243948],\n",
       "       [0.68744413, 0.31255587],\n",
       "       [0.3202259 , 0.6797741 ],\n",
       "       [0.7000398 , 0.2999602 ],\n",
       "       [0.74162339, 0.25837661],\n",
       "       [0.34501297, 0.65498703],\n",
       "       [0.3339419 , 0.6660581 ],\n",
       "       [0.13963441, 0.86036559],\n",
       "       [0.1731382 , 0.8268618 ],\n",
       "       [0.29708947, 0.70291053],\n",
       "       [0.80029736, 0.19970264],\n",
       "       [0.7760034 , 0.2239966 ],\n",
       "       [0.36656385, 0.63343615],\n",
       "       [0.83368455, 0.16631545],\n",
       "       [0.27352191, 0.72647809],\n",
       "       [0.85703744, 0.14296256],\n",
       "       [0.84284485, 0.15715515],\n",
       "       [0.68744413, 0.31255587],\n",
       "       [0.2901156 , 0.7098844 ],\n",
       "       [0.66420306, 0.33579694],\n",
       "       [0.84015042, 0.15984958],\n",
       "       [0.09632439, 0.90367561],\n",
       "       [0.82629124, 0.17370876],\n",
       "       [0.85412435, 0.14587565],\n",
       "       [0.34827353, 0.65172647],\n",
       "       [0.18704055, 0.81295945],\n",
       "       [0.83530008, 0.16469992],\n",
       "       [0.1598817 , 0.8401183 ],\n",
       "       [0.72417315, 0.27582685],\n",
       "       [0.16973975, 0.83026025],\n",
       "       [0.83516801, 0.16483199],\n",
       "       [0.10060178, 0.89939822],\n",
       "       [0.72943126, 0.27056874],\n",
       "       [0.32690442, 0.67309558],\n",
       "       [0.84880995, 0.15119005],\n",
       "       [0.27973027, 0.72026973],\n",
       "       [0.16716013, 0.83283987],\n",
       "       [0.2300876 , 0.7699124 ],\n",
       "       [0.5856409 , 0.4143591 ],\n",
       "       [0.42035188, 0.57964812],\n",
       "       [0.30581474, 0.69418526],\n",
       "       [0.83903536, 0.16096464],\n",
       "       [0.8393153 , 0.1606847 ],\n",
       "       [0.31158297, 0.68841703],\n",
       "       [0.83631653, 0.16368347],\n",
       "       [0.34840266, 0.65159734],\n",
       "       [0.60416349, 0.39583651],\n",
       "       [0.86984264, 0.13015736],\n",
       "       [0.77005322, 0.22994678],\n",
       "       [0.08170063, 0.91829937],\n",
       "       [0.17293128, 0.82706872],\n",
       "       [0.27248136, 0.72751864],\n",
       "       [0.36318901, 0.63681099],\n",
       "       [0.80999669, 0.19000331],\n",
       "       [0.84143794, 0.15856206],\n",
       "       [0.32130984, 0.67869016],\n",
       "       [0.84254255, 0.15745745],\n",
       "       [0.26820512, 0.73179488],\n",
       "       [0.0724233 , 0.9275767 ],\n",
       "       [0.80701031, 0.19298969],\n",
       "       [0.32968714, 0.67031286],\n",
       "       [0.82840844, 0.17159156],\n",
       "       [0.7855895 , 0.2144105 ],\n",
       "       [0.72650951, 0.27349049],\n",
       "       [0.81462272, 0.18537728],\n",
       "       [0.8357707 , 0.1642293 ],\n",
       "       [0.64943766, 0.35056234],\n",
       "       [0.84505149, 0.15494851],\n",
       "       [0.85136966, 0.14863034],\n",
       "       [0.83083661, 0.16916339],\n",
       "       [0.89483077, 0.10516923],\n",
       "       [0.84986941, 0.15013059],\n",
       "       [0.2386461 , 0.7613539 ],\n",
       "       [0.34812996, 0.65187004],\n",
       "       [0.20043114, 0.79956886],\n",
       "       [0.78144083, 0.21855917]])"
      ]
     },
     "execution_count": 29,
     "metadata": {},
     "output_type": "execute_result"
    }
   ],
   "source": [
    "yhat_log"
   ]
  },
  {
   "cell_type": "markdown",
   "metadata": {},
   "source": [
    "Let's do a quick comparison to the predict function: we can see below that the same first observation was naturally classified as a 0. "
   ]
  },
  {
   "cell_type": "code",
   "execution_count": 30,
   "metadata": {},
   "outputs": [
    {
     "data": {
      "text/plain": [
       "array([1, 0, 0, 1, 0, 1, 0, 0, 0, 1, 0, 1, 1, 1, 0, 0, 0, 0, 0, 0, 0, 1,\n",
       "       0, 1, 0, 0, 0, 1, 1, 0, 0, 0, 0, 0, 0, 0, 0, 0, 1, 1, 1, 0, 0, 0,\n",
       "       1, 0, 1, 0, 0, 0, 1, 0, 0, 0, 1, 1, 0, 1, 0, 0, 0, 0, 1, 1, 1, 0,\n",
       "       1, 0, 0, 0, 1, 1, 0, 0, 0, 1, 0, 1, 0, 1, 0, 0, 0, 0, 0, 0, 0, 1,\n",
       "       1, 1, 1, 1, 1, 0, 0, 0, 1, 0, 0, 0, 0, 0, 0, 0, 0, 1, 0, 0, 1, 1,\n",
       "       1, 1, 1, 0, 0, 1, 0, 1, 0, 0, 0, 1, 0, 0, 1, 0, 0, 1, 1, 0, 1, 0,\n",
       "       1, 0, 1, 0, 1, 0, 1, 1, 1, 0, 1, 1, 0, 0, 1, 0, 1, 0, 0, 0, 1, 1,\n",
       "       1, 1, 0, 0, 1, 0, 1, 1, 0, 1, 0, 0, 0, 0, 0, 0, 0, 0, 0, 0, 0, 1,\n",
       "       1, 1, 0], dtype=int64)"
      ]
     },
     "execution_count": 30,
     "metadata": {},
     "output_type": "execute_result"
    }
   ],
   "source": [
    "log.predict(x_test)"
   ]
  },
  {
   "cell_type": "markdown",
   "metadata": {},
   "source": [
    "Moving on. I'm going to isolate only the probabilities that something is a 1 (alive). "
   ]
  },
  {
   "cell_type": "code",
   "execution_count": 31,
   "metadata": {},
   "outputs": [
    {
     "data": {
      "text/plain": [
       "array([0.70964764, 0.15525163, 0.13800675, 0.65404961, 0.16083664,\n",
       "       0.98948161, 0.18010414, 0.12846542, 0.35720731, 0.66787179,\n",
       "       0.23677436, 0.65079941, 0.65262976, 0.68979172, 0.28328442,\n",
       "       0.16023895, 0.15012246, 0.15548242, 0.15594579, 0.15012246,\n",
       "       0.16869884, 0.67153717, 0.16148611, 0.75416368, 0.17589584,\n",
       "       0.16784697, 0.1370441 , 0.59906389, 0.64980169, 0.20634479,\n",
       "       0.17871219, 0.15114139, 0.15138483, 0.23158687, 0.14995107,\n",
       "       0.15114139, 0.19475295, 0.19423421, 0.65219976, 0.67827276,\n",
       "       0.59642876, 0.15489886, 0.17648371, 0.15114139, 0.66686762,\n",
       "       0.15114139, 0.74751325, 0.14781855, 0.16590403, 0.16195512,\n",
       "       0.97865317, 0.14587565, 0.15361776, 0.18416041, 0.98275968,\n",
       "       0.67778959, 0.24271872, 0.7178172 , 0.1668508 , 0.15655109,\n",
       "       0.15599418, 0.14795389, 0.74739657, 0.67431523, 0.65637946,\n",
       "       0.17905749, 0.65159734, 0.16131801, 0.16600901, 0.20937085,\n",
       "       0.69760809, 0.66150907, 0.14286062, 0.15282581, 0.25054272,\n",
       "       0.76182588, 0.23146611, 0.71219785, 0.14879249, 0.97933291,\n",
       "       0.19018136, 0.18437843, 0.1900062 , 0.25129169, 0.15457891,\n",
       "       0.14602216, 0.2447363 , 0.79551333, 0.92048556, 0.68631149,\n",
       "       0.68983478, 0.81238187, 0.9440611 , 0.14895555, 0.18589673,\n",
       "       0.14941412, 0.66108436, 0.15548242, 0.15456717, 0.15916166,\n",
       "       0.16671643, 0.14978408, 0.20213811, 0.18243948, 0.31255587,\n",
       "       0.6797741 , 0.2999602 , 0.25837661, 0.65498703, 0.6660581 ,\n",
       "       0.86036559, 0.8268618 , 0.70291053, 0.19970264, 0.2239966 ,\n",
       "       0.63343615, 0.16631545, 0.72647809, 0.14296256, 0.15715515,\n",
       "       0.31255587, 0.7098844 , 0.33579694, 0.15984958, 0.90367561,\n",
       "       0.17370876, 0.14587565, 0.65172647, 0.81295945, 0.16469992,\n",
       "       0.8401183 , 0.27582685, 0.83026025, 0.16483199, 0.89939822,\n",
       "       0.27056874, 0.67309558, 0.15119005, 0.72026973, 0.83283987,\n",
       "       0.7699124 , 0.4143591 , 0.57964812, 0.69418526, 0.16096464,\n",
       "       0.1606847 , 0.68841703, 0.16368347, 0.65159734, 0.39583651,\n",
       "       0.13015736, 0.22994678, 0.91829937, 0.82706872, 0.72751864,\n",
       "       0.63681099, 0.19000331, 0.15856206, 0.67869016, 0.15745745,\n",
       "       0.73179488, 0.9275767 , 0.19298969, 0.67031286, 0.17159156,\n",
       "       0.2144105 , 0.27349049, 0.18537728, 0.1642293 , 0.35056234,\n",
       "       0.15494851, 0.14863034, 0.16916339, 0.10516923, 0.15013059,\n",
       "       0.7613539 , 0.65187004, 0.79956886, 0.21855917])"
      ]
     },
     "execution_count": 31,
     "metadata": {},
     "output_type": "execute_result"
    }
   ],
   "source": [
    "yhat_log[:,1]"
   ]
  },
  {
   "cell_type": "markdown",
   "metadata": {},
   "source": [
    "Now we can use the roc_curve() function to plot these. A True Positive will be anything over 50%, because this would be classified as a 1. A False Positive will be anything where the prediction was over 50% but actually the output should have been a 0. You can print out each element to see what it looks like."
   ]
  },
  {
   "cell_type": "code",
   "execution_count": 32,
   "metadata": {},
   "outputs": [],
   "source": [
    "fpr, tpr, thresholds = roc_curve(y_test, yhat_log[:,1])"
   ]
  },
  {
   "cell_type": "code",
   "execution_count": 33,
   "metadata": {},
   "outputs": [
    {
     "data": {
      "text/plain": [
       "array([0.        , 0.        , 0.        , 0.00925926, 0.00925926,\n",
       "       0.01851852, 0.01851852, 0.02777778, 0.02777778, 0.03703704,\n",
       "       0.03703704, 0.0462963 , 0.0462963 , 0.05555556, 0.05555556,\n",
       "       0.06481481, 0.06481481, 0.08333333, 0.08333333, 0.09259259,\n",
       "       0.09259259, 0.11111111, 0.11111111, 0.12962963, 0.12962963,\n",
       "       0.13888889, 0.13888889, 0.14814815, 0.14814815, 0.15740741,\n",
       "       0.15740741, 0.16666667, 0.16666667, 0.16666667, 0.16666667,\n",
       "       0.17592593, 0.17592593, 0.19444444, 0.19444444, 0.24074074,\n",
       "       0.25925926, 0.26851852, 0.26851852, 0.2962963 , 0.2962963 ,\n",
       "       0.30555556, 0.30555556, 0.32407407, 0.32407407, 0.33333333,\n",
       "       0.33333333, 0.35185185, 0.35185185, 0.36111111, 0.36111111,\n",
       "       0.42592593, 0.42592593, 0.46296296, 0.46296296, 0.51851852,\n",
       "       0.51851852, 0.55555556, 0.55555556, 0.61111111, 0.61111111,\n",
       "       0.62962963, 0.62962963, 0.67592593, 0.67592593, 0.7037037 ,\n",
       "       0.7037037 , 0.72222222, 0.76851852, 0.76851852, 0.7962963 ,\n",
       "       0.83333333, 0.84259259, 0.86111111, 0.91666667, 0.91666667,\n",
       "       0.93518519, 1.        ])"
      ]
     },
     "execution_count": 33,
     "metadata": {},
     "output_type": "execute_result"
    }
   ],
   "source": [
    "fpr"
   ]
  },
  {
   "cell_type": "code",
   "execution_count": 34,
   "metadata": {},
   "outputs": [
    {
     "data": {
      "text/plain": [
       "array([0.        , 0.01408451, 0.05633803, 0.05633803, 0.09859155,\n",
       "       0.09859155, 0.18309859, 0.18309859, 0.21126761, 0.21126761,\n",
       "       0.23943662, 0.23943662, 0.26760563, 0.26760563, 0.28169014,\n",
       "       0.28169014, 0.33802817, 0.33802817, 0.36619718, 0.36619718,\n",
       "       0.45070423, 0.45070423, 0.46478873, 0.46478873, 0.47887324,\n",
       "       0.47887324, 0.49295775, 0.49295775, 0.53521127, 0.53521127,\n",
       "       0.56338028, 0.56338028, 0.6056338 , 0.63380282, 0.66197183,\n",
       "       0.66197183, 0.67605634, 0.67605634, 0.69014085, 0.69014085,\n",
       "       0.69014085, 0.69014085, 0.71830986, 0.71830986, 0.73239437,\n",
       "       0.73239437, 0.74647887, 0.74647887, 0.76056338, 0.76056338,\n",
       "       0.77464789, 0.77464789, 0.78873239, 0.78873239, 0.8028169 ,\n",
       "       0.8028169 , 0.81690141, 0.81690141, 0.84507042, 0.84507042,\n",
       "       0.85915493, 0.85915493, 0.87323944, 0.87323944, 0.88732394,\n",
       "       0.88732394, 0.90140845, 0.90140845, 0.91549296, 0.91549296,\n",
       "       0.94366197, 0.94366197, 0.94366197, 0.95774648, 0.95774648,\n",
       "       0.95774648, 0.95774648, 0.95774648, 0.95774648, 1.        ,\n",
       "       1.        , 1.        ])"
      ]
     },
     "execution_count": 34,
     "metadata": {},
     "output_type": "execute_result"
    }
   ],
   "source": [
    "tpr"
   ]
  },
  {
   "cell_type": "code",
   "execution_count": 35,
   "metadata": {},
   "outputs": [
    {
     "data": {
      "text/plain": [
       "array([1.98948161, 0.98948161, 0.97865317, 0.9440611 , 0.91829937,\n",
       "       0.90367561, 0.82706872, 0.8268618 , 0.81238187, 0.79956886,\n",
       "       0.7699124 , 0.76182588, 0.75416368, 0.74751325, 0.74739657,\n",
       "       0.73179488, 0.7178172 , 0.7098844 , 0.70291053, 0.69760809,\n",
       "       0.6797741 , 0.67827276, 0.67778959, 0.67309558, 0.67153717,\n",
       "       0.67031286, 0.66787179, 0.66686762, 0.66108436, 0.65637946,\n",
       "       0.65404961, 0.65262976, 0.65172647, 0.65159734, 0.64980169,\n",
       "       0.63681099, 0.63343615, 0.59642876, 0.57964812, 0.33579694,\n",
       "       0.31255587, 0.2999602 , 0.27582685, 0.25837661, 0.25129169,\n",
       "       0.25054272, 0.2447363 , 0.23677436, 0.23158687, 0.23146611,\n",
       "       0.22994678, 0.21855917, 0.2144105 , 0.20937085, 0.20634479,\n",
       "       0.1900062 , 0.19000331, 0.18416041, 0.18010414, 0.17159156,\n",
       "       0.16916339, 0.16671643, 0.16631545, 0.16368347, 0.16195512,\n",
       "       0.16131801, 0.16096464, 0.15916166, 0.15856206, 0.15655109,\n",
       "       0.15594579, 0.15548242, 0.15456717, 0.15361776, 0.15119005,\n",
       "       0.15114139, 0.15013059, 0.15012246, 0.14863034, 0.14602216,\n",
       "       0.14587565, 0.10516923])"
      ]
     },
     "execution_count": 35,
     "metadata": {},
     "output_type": "execute_result"
    }
   ],
   "source": [
    "thresholds"
   ]
  },
  {
   "cell_type": "code",
   "execution_count": 36,
   "metadata": {},
   "outputs": [
    {
     "data": {
      "text/plain": [
       "Text(0, 0.5, 'True Positive Rate')"
      ]
     },
     "execution_count": 36,
     "metadata": {},
     "output_type": "execute_result"
    },
    {
     "data": {
      "image/png": "[encoded data removed]",
      "text/plain": [
       "<Figure size 640x480 with 1 Axes>"
      ]
     },
     "metadata": {},
     "output_type": "display_data"
    }
   ],
   "source": [
    "import matplotlib.pyplot as plt\n",
    "plt.plot(fpr,tpr)\n",
    "plt.xlabel('False Positive Rate')\n",
    "plt.ylabel('True Positive Rate')"
   ]
  },
  {
   "cell_type": "markdown",
   "metadata": {},
   "source": [
    "Ideally we want this curve to be towards the top left; but in a non-ideal world, we want to find the optimal threshold. One way we can do this is by calculating the geometric mean (G-mean) which will find the balance between Sensitivity and Specificity. As a refresher:\n",
    "\n",
    "Sensitivity = True Positive Rate \\\n",
    "Specificity = 1 - False Positive Rate\n",
    "\n",
    "In other words:\n",
    "\n",
    "Sensitivity = TP / (TP + FN) \\\n",
    "Specificity = TN / (FP + TN)\n",
    "\n",
    "To calculate the G-mean, we simply take the square root of the Sensitivity multiplied by the Specificity."
   ]
  },
  {
   "cell_type": "code",
   "execution_count": 37,
   "metadata": {},
   "outputs": [
    {
     "data": {
      "text/plain": [
       "array([0.        , 0.11867817, 0.23735633, 0.2362549 , 0.31253586,\n",
       "       0.31107199, 0.42391966, 0.4219153 , 0.45320973, 0.45104643,\n",
       "       0.48017559, 0.47786148, 0.50518955, 0.50273119, 0.51579132,\n",
       "       0.51325671, 0.56224455, 0.55664994, 0.57937963, 0.57644604,\n",
       "       0.63950946, 0.63295022, 0.64276398, 0.63603329, 0.64559823,\n",
       "       0.64215502, 0.65153004, 0.64801772, 0.67521901, 0.67153931,\n",
       "       0.6889848 , 0.68518871, 0.71041877, 0.72675237, 0.74272686,\n",
       "       0.73858908, 0.74640505, 0.73797083, 0.7456184 , 0.72387556,\n",
       "       0.71499332, 0.71051055, 0.72486575, 0.71096927, 0.71790572,\n",
       "       0.71316702, 0.71999174, 0.71032698, 0.71699687, 0.71206899,\n",
       "       0.71863198, 0.70858069, 0.71499332, 0.70986785, 0.71617791,\n",
       "       0.67887876, 0.68480794, 0.66234909, 0.67367211, 0.63787597,\n",
       "       0.64316964, 0.6179374 , 0.62298187, 0.58274618, 0.58742695,\n",
       "       0.57327   , 0.57780185, 0.54048414, 0.54469031, 0.52082355,\n",
       "       0.52877552, 0.51198469, 0.46737594, 0.4708509 , 0.4416973 ,\n",
       "       0.39953024, 0.3882736 , 0.36471954, 0.28251054, 0.28867513,\n",
       "       0.25458754, 0.        ])"
      ]
     },
     "execution_count": 37,
     "metadata": {},
     "output_type": "execute_result"
    }
   ],
   "source": [
    "gmeans = np.sqrt(tpr*(1-fpr))\n",
    "gmeans"
   ]
  },
  {
   "cell_type": "code",
   "execution_count": 38,
   "metadata": {},
   "outputs": [
    {
     "name": "stdout",
     "output_type": "stream",
     "text": [
      "0.6334361512163075\n",
      "0.7464050514181108\n"
     ]
    }
   ],
   "source": [
    "#find the index with the highest gmean\n",
    "\n",
    "print(thresholds[np.argmax(gmeans)])\n",
    "print(gmeans[np.argmax(gmeans)])\n"
   ]
  },
  {
   "cell_type": "markdown",
   "metadata": {},
   "source": [
    "Now for this model, we can conclude that the best threshold is 61%, with a geometric mean of 81%. So how do we actually implement this?\n",
    "\n",
    "Unfortunately, sklearn models don't have a threshold parameter as a hyperparameter. But, we can simply use the predict_proba() function, then assign a class based on the optimal threshold, and go from there. \n",
    "\n",
    "Now let's repeat the process for NB."
   ]
  },
  {
   "cell_type": "code",
   "execution_count": 39,
   "metadata": {},
   "outputs": [
    {
     "name": "stdout",
     "output_type": "stream",
     "text": [
      "0.11096624821143082\n",
      "0.7416726011262286\n"
     ]
    }
   ],
   "source": [
    "fpr_nb, tpr_nb, thresholds_nb = roc_curve(y_test, yhat_nb[:,1])\n",
    "gmeans_nb = np.sqrt(tpr_nb*(1-fpr_nb))\n",
    "print(thresholds_nb[np.argmax(gmeans_nb)])\n",
    "print(gmeans_nb[np.argmax(gmeans_nb)])"
   ]
  },
  {
   "cell_type": "code",
   "execution_count": 40,
   "metadata": {},
   "outputs": [
    {
     "data": {
      "text/plain": [
       "array([0.        , 0.11867817, 0.11812745, 0.2362549 , 0.23514832,\n",
       "       0.26290381, 0.26166076, 0.30960119, 0.30812337, 0.45104643,\n",
       "       0.4488727 , 0.4917154 , 0.48691806, 0.51325671, 0.50557662,\n",
       "       0.53025323, 0.5248146 , 0.54815097, 0.54528854, 0.55653279,\n",
       "       0.55359592, 0.56455928, 0.56154827, 0.57224539, 0.56916049,\n",
       "       0.57960467, 0.57327   , 0.61285141, 0.63171278, 0.6589934 ,\n",
       "       0.6553221 , 0.67280042, 0.66900997, 0.67753273, 0.67367211,\n",
       "       0.72243286, 0.71826894, 0.72603424, 0.72180077, 0.73699824,\n",
       "       0.72827606, 0.73566992, 0.72675237, 0.71772404, 0.71316702,\n",
       "       0.72026338, 0.71096927, 0.73158135, 0.72675237, 0.74008839,\n",
       "       0.73513791, 0.7416726 , 0.72648316, 0.73282811, 0.72764905,\n",
       "       0.73389508, 0.6737689 , 0.67945481, 0.66195518, 0.66744868,\n",
       "       0.66146247, 0.66686226, 0.61645832, 0.62140988, 0.58039164,\n",
       "       0.58497979, 0.54815097, 0.5524168 , 0.52082355, 0.50428524,\n",
       "       0.49580925, 0.46034733, 0.4013215 , 0.40439681, 0.38252108,\n",
       "       0.38540808, 0.36202785, 0.36471954, 0.33953542, 0.3444924 ,\n",
       "       0.30213982, 0.27024207, 0.2340365 , 0.19109   , 0.        ,\n",
       "       0.        ])"
      ]
     },
     "execution_count": 40,
     "metadata": {},
     "output_type": "execute_result"
    }
   ],
   "source": [
    "gmeans_nb"
   ]
  },
  {
   "cell_type": "code",
   "execution_count": 41,
   "metadata": {},
   "outputs": [
    {
     "data": {
      "text/plain": [
       "array([0.        , 0.        , 0.00925926, 0.00925926, 0.01851852,\n",
       "       0.01851852, 0.02777778, 0.02777778, 0.03703704, 0.03703704,\n",
       "       0.0462963 , 0.0462963 , 0.06481481, 0.06481481, 0.09259259,\n",
       "       0.09259259, 0.11111111, 0.11111111, 0.12037037, 0.12037037,\n",
       "       0.12962963, 0.12962963, 0.13888889, 0.13888889, 0.14814815,\n",
       "       0.14814815, 0.16666667, 0.16666667, 0.16666667, 0.16666667,\n",
       "       0.17592593, 0.17592593, 0.18518519, 0.18518519, 0.19444444,\n",
       "       0.19444444, 0.2037037 , 0.2037037 , 0.21296296, 0.21296296,\n",
       "       0.23148148, 0.23148148, 0.25      , 0.26851852, 0.27777778,\n",
       "       0.27777778, 0.2962963 , 0.2962963 , 0.30555556, 0.30555556,\n",
       "       0.31481481, 0.31481481, 0.34259259, 0.34259259, 0.35185185,\n",
       "       0.35185185, 0.4537037 , 0.4537037 , 0.48148148, 0.48148148,\n",
       "       0.49074074, 0.49074074, 0.56481481, 0.56481481, 0.62037037,\n",
       "       0.62037037, 0.66666667, 0.66666667, 0.7037037 , 0.72222222,\n",
       "       0.73148148, 0.76851852, 0.82407407, 0.82407407, 0.84259259,\n",
       "       0.84259259, 0.86111111, 0.86111111, 0.87962963, 0.87962963,\n",
       "       0.90740741, 0.92592593, 0.94444444, 0.96296296, 1.        ,\n",
       "       1.        ])"
      ]
     },
     "execution_count": 41,
     "metadata": {},
     "output_type": "execute_result"
    }
   ],
   "source": [
    "fpr_nb"
   ]
  },
  {
   "cell_type": "code",
   "execution_count": 42,
   "metadata": {},
   "outputs": [
    {
     "data": {
      "text/plain": [
       "Text(0, 0.5, 'True Positive Rate')"
      ]
     },
     "execution_count": 42,
     "metadata": {},
     "output_type": "execute_result"
    },
    {
     "data": {
      "image/png": "[encoded data removed]",
      "text/plain": [
       "<Figure size 640x480 with 1 Axes>"
      ]
     },
     "metadata": {},
     "output_type": "display_data"
    }
   ],
   "source": [
    "import matplotlib.pyplot as plt\n",
    "plt.plot(fpr_nb,tpr_nb)\n",
    "plt.xlabel('False Positive Rate')\n",
    "plt.ylabel('True Positive Rate')"
   ]
  },
  {
   "cell_type": "code",
   "execution_count": 43,
   "metadata": {},
   "outputs": [
    {
     "data": {
      "text/plain": [
       "<matplotlib.legend.Legend at 0x239637d7f40>"
      ]
     },
     "execution_count": 43,
     "metadata": {},
     "output_type": "execute_result"
    },
    {
     "data": {
      "image/png": "[encoded data removed]",
      "text/plain": [
       "<Figure size 640x480 with 1 Axes>"
      ]
     },
     "metadata": {},
     "output_type": "display_data"
    }
   ],
   "source": [
    "#now let's plot both models on the same plot so we can see how they compare\n",
    "import matplotlib.pyplot as plt\n",
    "plt.plot(fpr,tpr, label='log_reg')\n",
    "plt.plot(fpr_nb,tpr_nb, label='nb')\n",
    "plt.xlabel('False Positive Rate')\n",
    "plt.ylabel('True Positive Rate')\n",
    "plt.legend()"
   ]
  },
  {
   "cell_type": "markdown",
   "metadata": {},
   "source": [
    "The Logistic Regression is VERY slightly better than Naive Bayes for this problem. And once again, we have not done any tuning to these models, but likely we would want to lean towards tho logistic regression.\n",
    "\n",
    "Now, we cannot use the same method to evaluate KNN, simply because it's not a probability-based model - it uses distance. While we want to find the optimal probability threshold for NB or Logistic Regression, for KNN we would be looking for the optimal number of neighbours. To compare it to these two models though, we could use the confusion matrix, recall, precision, and F1 score. And the roc_curve which is based on predicted values, rather than probabilities."
   ]
  },
  {
   "cell_type": "code",
   "execution_count": 44,
   "metadata": {},
   "outputs": [
    {
     "data": {
      "text/plain": [
       "<matplotlib.legend.Legend at 0x239639d3b20>"
      ]
     },
     "execution_count": 44,
     "metadata": {},
     "output_type": "execute_result"
    },
    {
     "data": {
      "image/png": "[encoded data removed]",
      "text/plain": [
       "<Figure size 640x480 with 1 Axes>"
      ]
     },
     "metadata": {},
     "output_type": "display_data"
    }
   ],
   "source": [
    "fpr_knn, tpr_knn, thresholds_knn = roc_curve(y_test, yhat_knn)\n",
    "plt.plot(fpr_knn,tpr_knn, label='knn')\n",
    "plt.legend()"
   ]
  },
  {
   "cell_type": "code",
   "execution_count": 45,
   "metadata": {},
   "outputs": [
    {
     "name": "stdout",
     "output_type": "stream",
     "text": [
      "knn F1:  0.5416666666666667\n",
      "knn precision:  0.5342465753424658\n",
      "knn recall:  0.5492957746478874\n",
      "knn accuracy:  0.6312849162011173\n"
     ]
    }
   ],
   "source": [
    "print(\"knn F1: \", f1_score(y_test,yhat_knn))\n",
    "print(\"knn precision: \", precision_score(y_test,yhat_knn))\n",
    "print(\"knn recall: \", recall_score(y_test,yhat_knn))\n",
    "print(\"knn accuracy: \", accuracy_score(y_test,yhat_knn))"
   ]
  },
  {
   "cell_type": "markdown",
   "metadata": {},
   "source": [
    "Overall this model performed the worst, so... we should just scrap it. AND THAT'S IT! I hope this was helpful."
   ]
  },
  {
   "cell_type": "code",
   "execution_count": 50,
   "metadata": {},
   "outputs": [
    {
     "data": {
      "text/plain": [
       "array([[0.26448063, 0.73551937],\n",
       "       [0.79189776, 0.20810224],\n",
       "       [0.84342039, 0.15657961],\n",
       "       [0.87323666, 0.12676334],\n",
       "       [0.78587114, 0.21412886],\n",
       "       [0.30573045, 0.69426955],\n",
       "       [0.79189776, 0.20810224],\n",
       "       [0.78219469, 0.21780531],\n",
       "       [0.27301416, 0.72698584],\n",
       "       [0.2145134 , 0.7854866 ],\n",
       "       [0.83759962, 0.16240038],\n",
       "       [0.79896342, 0.20103658],\n",
       "       [0.79896342, 0.20103658],\n",
       "       [0.78219469, 0.21780531],\n",
       "       [0.20728704, 0.79271296],\n",
       "       [0.21208445, 0.78791555],\n",
       "       [0.81255213, 0.18744787],\n",
       "       [0.21573544, 0.78426456],\n",
       "       [0.84149925, 0.15850075],\n",
       "       [0.78219469, 0.21780531],\n",
       "       [0.7846507 , 0.2153493 ],\n",
       "       [0.31190975, 0.68809025],\n",
       "       [0.78095914, 0.21904086],\n",
       "       [0.78219469, 0.21780531],\n",
       "       [0.25335396, 0.74664604],\n",
       "       [0.46157186, 0.53842814],\n",
       "       [0.35034932, 0.64965068],\n",
       "       [0.26728764, 0.73271236],\n",
       "       [0.79896342, 0.20103658],\n",
       "       [0.20967567, 0.79032433],\n",
       "       [0.83758682, 0.16241318],\n",
       "       [0.83759962, 0.16240038],\n",
       "       [0.81907674, 0.18092326],\n",
       "       [0.84149925, 0.15850075],\n",
       "       [0.27015063, 0.72984937],\n",
       "       [0.8581127 , 0.1418873 ],\n",
       "       [0.26446232, 0.73553768],\n",
       "       [0.7484429 , 0.2515571 ],\n",
       "       [0.83562098, 0.16437902],\n",
       "       [0.83161885, 0.16838115],\n",
       "       [0.1933781 , 0.8066219 ],\n",
       "       [0.79662834, 0.20337166],\n",
       "       [0.83360997, 0.16639003],\n",
       "       [0.82956886, 0.17043114],\n",
       "       [0.79662834, 0.20337166],\n",
       "       [0.76703623, 0.23296377],\n",
       "       [0.23992598, 0.76007402],\n",
       "       [0.16371257, 0.83628743],\n",
       "       [0.88984959, 0.11015041],\n",
       "       [0.49044743, 0.50955257],\n",
       "       [0.1617404 , 0.8382596 ],\n",
       "       [0.77971854, 0.22028146],\n",
       "       [0.31190975, 0.68809025],\n",
       "       [0.86752169, 0.13247831],\n",
       "       [0.33728768, 0.66271232],\n",
       "       [0.26730608, 0.73269392],\n",
       "       [0.75385426, 0.24614574],\n",
       "       [0.77452012, 0.22547988],\n",
       "       [0.85091576, 0.14908424],\n",
       "       [0.1933781 , 0.8066219 ],\n",
       "       [0.87324708, 0.12675292],\n",
       "       [0.83759962, 0.16240038],\n",
       "       [0.79662834, 0.20337166],\n",
       "       [0.21452926, 0.78547074],\n",
       "       [0.18233851, 0.81766149],\n",
       "       [0.84531022, 0.15468978],\n",
       "       [0.78219469, 0.21780531],\n",
       "       [0.82334102, 0.17665898],\n",
       "       [0.195646  , 0.804354  ],\n",
       "       [0.83955902, 0.16044098],\n",
       "       [0.75653036, 0.24346964],\n",
       "       [0.83360997, 0.16639003],\n",
       "       [0.195646  , 0.804354  ],\n",
       "       [0.83360997, 0.16639003],\n",
       "       [0.19113023, 0.80886977],\n",
       "       [0.88984959, 0.11015041],\n",
       "       [0.21210018, 0.78789982],\n",
       "       [0.79189776, 0.20810224],\n",
       "       [0.22696029, 0.77303971],\n",
       "       [0.78219469, 0.21780531],\n",
       "       [0.76443965, 0.23556035],\n",
       "       [0.78219469, 0.21780531],\n",
       "       [0.76961282, 0.23038718],\n",
       "       [0.27301416, 0.72698584],\n",
       "       [0.21696251, 0.78303749],\n",
       "       [0.78219469, 0.21780531],\n",
       "       [0.7846507 , 0.2153493 ],\n",
       "       [0.20024206, 0.79975794],\n",
       "       [0.22443068, 0.77556932],\n",
       "       [0.83562098, 0.16437902],\n",
       "       [0.76182311, 0.23817689],\n",
       "       [0.16974514, 0.83025486],\n",
       "       [0.75653036, 0.24346964],\n",
       "       [0.82542303, 0.17457697],\n",
       "       [0.82956886, 0.17043114],\n",
       "       [0.78219469, 0.21780531],\n",
       "       [0.91743091, 0.08256909],\n",
       "       [0.77216937, 0.22783063],\n",
       "       [0.89266439, 0.10733561],\n",
       "       [0.83362302, 0.16637698],\n",
       "       [0.85810123, 0.14189877],\n",
       "       [0.76443965, 0.23556035],\n",
       "       [0.75115841, 0.24884159],\n",
       "       [0.20730251, 0.79269749],\n",
       "       [0.78219469, 0.21780531],\n",
       "       [0.24255833, 0.75744167],\n",
       "       [0.29360007, 0.70639993],\n",
       "       [0.78219469, 0.21780531],\n",
       "       [0.78219469, 0.21780531],\n",
       "       [0.85090382, 0.14909618],\n",
       "       [0.80357323, 0.19642677],\n",
       "       [0.78219469, 0.21780531],\n",
       "       [0.77470586, 0.22529414],\n",
       "       [0.81474689, 0.18525311],\n",
       "       [0.79896342, 0.20103658],\n",
       "       [0.77470586, 0.22529414],\n",
       "       [0.24524509, 0.75475491],\n",
       "       [0.26728764, 0.73271236],\n",
       "       [0.76182311, 0.23817689],\n",
       "       [0.78219469, 0.21780531],\n",
       "       [0.78219469, 0.21780531],\n",
       "       [0.76443965, 0.23556035],\n",
       "       [0.77216937, 0.22783063],\n",
       "       [0.18450656, 0.81549344],\n",
       "       [0.70541057, 0.29458943],\n",
       "       [0.27589658, 0.72410342],\n",
       "       [0.78219469, 0.21780531],\n",
       "       [0.81035189, 0.18964811],\n",
       "       [0.78219469, 0.21780531],\n",
       "       [0.85273092, 0.14726908],\n",
       "       [0.20728704, 0.79271296],\n",
       "       [0.20728704, 0.79271296],\n",
       "       [0.76182311, 0.23817689],\n",
       "       [0.78219469, 0.21780531],\n",
       "       [0.78219469, 0.21780531],\n",
       "       [0.30881155, 0.69118845],\n",
       "       [0.1801903 , 0.8198097 ],\n",
       "       [0.33728768, 0.66271232],\n",
       "       [0.78219469, 0.21780531],\n",
       "       [0.7484429 , 0.2515571 ],\n",
       "       [0.79662834, 0.20337166],\n",
       "       [0.27015063, 0.72984937],\n",
       "       [0.80811732, 0.19188268],\n",
       "       [0.79427313, 0.20572687],\n",
       "       [0.1866945 , 0.8133055 ],\n",
       "       [0.85274274, 0.14725726],\n",
       "       [0.23466946, 0.76533054],\n",
       "       [0.20728704, 0.79271296],\n",
       "       [0.77971854, 0.22028146],\n",
       "       [0.32765061, 0.67234939],\n",
       "       [0.78219469, 0.21780531],\n",
       "       [0.87324708, 0.12675292],\n",
       "       [0.7708936 , 0.2291064 ],\n",
       "       [0.75115841, 0.24884159],\n",
       "       [0.20491857, 0.79508143],\n",
       "       [0.81035189, 0.18964811],\n",
       "       [0.8795286 , 0.1204714 ],\n",
       "       [0.195646  , 0.804354  ],\n",
       "       [0.16570404, 0.83429596],\n",
       "       [0.78219469, 0.21780531],\n",
       "       [0.79662834, 0.20337166],\n",
       "       [0.79896342, 0.20103658],\n",
       "       [0.86160114, 0.13839886],\n",
       "       [0.77722226, 0.22277774],\n",
       "       [0.21943176, 0.78056824],\n",
       "       [0.20728704, 0.79271296],\n",
       "       [0.76443965, 0.23556035],\n",
       "       [0.78708655, 0.21291345],\n",
       "       [0.94640635, 0.05359365],\n",
       "       [0.76182311, 0.23817689],\n",
       "       [0.34055196, 0.65944804],\n",
       "       [0.75918666, 0.24081334],\n",
       "       [0.1866945 , 0.8133055 ],\n",
       "       [0.78219469, 0.21780531],\n",
       "       [0.75653036, 0.24346964],\n",
       "       [0.85090382, 0.14909618],\n",
       "       [0.75653036, 0.24346964],\n",
       "       [0.78950223, 0.21049777],\n",
       "       [0.20728704, 0.79271296]])"
      ]
     },
     "execution_count": 50,
     "metadata": {},
     "output_type": "execute_result"
    }
   ],
   "source": [
    "# try to recreate the model but use different parameters\n",
    "\n",
    "x = np.array(data[['sibsp', 'male','age']])\n",
    "y = np.array(data.survived)\n",
    "\n",
    "# get the model\n",
    "log = LogisticRegression()\n",
    "\n",
    "# split data\n",
    "x_train, x_test, y_train, y_test = train_test_split(x,y, test_size=0.2)\n",
    "\n",
    "# fit model\n",
    "log.fit(x_train,y_train)\n",
    "\n",
    "# get predicted probabilities\n",
    "yhat_log = log.predict_proba(x_test)\n",
    "yhat_log\n"
   ]
  },
  {
   "cell_type": "code",
   "execution_count": 46,
   "metadata": {},
   "outputs": [
    {
     "data": {
      "text/html": [
       "<div>\n",
       "<style scoped>\n",
       "    .dataframe tbody tr th:only-of-type {\n",
       "        vertical-align: middle;\n",
       "    }\n",
       "\n",
       "    .dataframe tbody tr th {\n",
       "        vertical-align: top;\n",
       "    }\n",
       "\n",
       "    .dataframe thead th {\n",
       "        text-align: right;\n",
       "    }\n",
       "</style>\n",
       "<table border=\"1\" class=\"dataframe\">\n",
       "  <thead>\n",
       "    <tr style=\"text-align: right;\">\n",
       "      <th></th>\n",
       "      <th>survived</th>\n",
       "      <th>pclass</th>\n",
       "      <th>age</th>\n",
       "      <th>sibsp</th>\n",
       "      <th>parch</th>\n",
       "      <th>fare</th>\n",
       "      <th>female</th>\n",
       "      <th>male</th>\n",
       "      <th>C</th>\n",
       "      <th>Q</th>\n",
       "      <th>S</th>\n",
       "    </tr>\n",
       "  </thead>\n",
       "  <tbody>\n",
       "    <tr>\n",
       "      <th>0</th>\n",
       "      <td>0</td>\n",
       "      <td>3</td>\n",
       "      <td>22.0</td>\n",
       "      <td>1</td>\n",
       "      <td>0</td>\n",
       "      <td>7.2500</td>\n",
       "      <td>False</td>\n",
       "      <td>True</td>\n",
       "      <td>False</td>\n",
       "      <td>False</td>\n",
       "      <td>True</td>\n",
       "    </tr>\n",
       "    <tr>\n",
       "      <th>1</th>\n",
       "      <td>1</td>\n",
       "      <td>1</td>\n",
       "      <td>38.0</td>\n",
       "      <td>1</td>\n",
       "      <td>0</td>\n",
       "      <td>71.2833</td>\n",
       "      <td>True</td>\n",
       "      <td>False</td>\n",
       "      <td>True</td>\n",
       "      <td>False</td>\n",
       "      <td>False</td>\n",
       "    </tr>\n",
       "    <tr>\n",
       "      <th>2</th>\n",
       "      <td>1</td>\n",
       "      <td>3</td>\n",
       "      <td>26.0</td>\n",
       "      <td>0</td>\n",
       "      <td>0</td>\n",
       "      <td>7.9250</td>\n",
       "      <td>True</td>\n",
       "      <td>False</td>\n",
       "      <td>False</td>\n",
       "      <td>False</td>\n",
       "      <td>True</td>\n",
       "    </tr>\n",
       "    <tr>\n",
       "      <th>3</th>\n",
       "      <td>1</td>\n",
       "      <td>1</td>\n",
       "      <td>35.0</td>\n",
       "      <td>1</td>\n",
       "      <td>0</td>\n",
       "      <td>53.1000</td>\n",
       "      <td>True</td>\n",
       "      <td>False</td>\n",
       "      <td>False</td>\n",
       "      <td>False</td>\n",
       "      <td>True</td>\n",
       "    </tr>\n",
       "    <tr>\n",
       "      <th>4</th>\n",
       "      <td>0</td>\n",
       "      <td>3</td>\n",
       "      <td>35.0</td>\n",
       "      <td>0</td>\n",
       "      <td>0</td>\n",
       "      <td>8.0500</td>\n",
       "      <td>False</td>\n",
       "      <td>True</td>\n",
       "      <td>False</td>\n",
       "      <td>False</td>\n",
       "      <td>True</td>\n",
       "    </tr>\n",
       "  </tbody>\n",
       "</table>\n",
       "</div>"
      ],
      "text/plain": [
       "   survived  pclass   age  sibsp  parch     fare  female   male      C      Q   \n",
       "0         0       3  22.0      1      0   7.2500   False   True  False  False  \\\n",
       "1         1       1  38.0      1      0  71.2833    True  False   True  False   \n",
       "2         1       3  26.0      0      0   7.9250    True  False  False  False   \n",
       "3         1       1  35.0      1      0  53.1000    True  False  False  False   \n",
       "4         0       3  35.0      0      0   8.0500   False   True  False  False   \n",
       "\n",
       "       S  \n",
       "0   True  \n",
       "1  False  \n",
       "2   True  \n",
       "3   True  \n",
       "4   True  "
      ]
     },
     "execution_count": 46,
     "metadata": {},
     "output_type": "execute_result"
    }
   ],
   "source": [
    "data.head()"
   ]
  },
  {
   "cell_type": "code",
   "execution_count": null,
   "metadata": {},
   "outputs": [],
   "source": []
  }
 ],
 "metadata": {
  "kernelspec": {
   "display_name": "Python 3",
   "language": "python",
   "name": "python3"
  },
  "language_info": {
   "codemirror_mode": {
    "name": "ipython",
    "version": 3
   },
   "file_extension": ".py",
   "mimetype": "text/x-python",
   "name": "python",
   "nbconvert_exporter": "python",
   "pygments_lexer": "ipython3",
   "version": "3.10.7"
  },
  "orig_nbformat": 4
 },
 "nbformat": 4,
 "nbformat_minor": 2
}
